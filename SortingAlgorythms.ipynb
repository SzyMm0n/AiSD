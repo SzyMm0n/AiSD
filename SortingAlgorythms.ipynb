{
 "cells": [
  {
   "metadata": {
    "ExecuteTime": {
     "end_time": "2024-12-31T13:00:27.410335Z",
     "start_time": "2024-12-31T13:00:27.407346Z"
    }
   },
   "cell_type": "code",
   "source": [
    "import random\n",
    "\n",
    "def generateArray():\n",
    "    n = 10\n",
    "    arr = []\n",
    "    for i in range(n):\n",
    "        arr.append(random.randint(0,1000))\n",
    "    return arr\n"
   ],
   "id": "b5fc384af35880a",
   "outputs": [],
   "execution_count": 55
  },
  {
   "metadata": {
    "collapsed": true,
    "ExecuteTime": {
     "end_time": "2024-12-31T13:00:27.419248Z",
     "start_time": "2024-12-31T13:00:27.415341Z"
    }
   },
   "cell_type": "code",
   "source": [
    "arr = generateArray()\n",
    "print(\"Unsorted Array: \\n\", arr)\n",
    "\n",
    "def bubbleSort(array):\n",
    "    n=len(array)\n",
    "    for i in range(n):\n",
    "        for j in range(n-i-1):\n",
    "            if array[j] > array[j+1]:\n",
    "                array[j],array[j+1] = array[j+1],array[j]\n",
    "bubbleSort(arr)\n",
    "print(\"Sorted Array: \\n\", arr)"
   ],
   "id": "initial_id",
   "outputs": [
    {
     "name": "stdout",
     "output_type": "stream",
     "text": [
      "Unsorted Array: \n",
      " [298, 286, 351, 487, 982, 54, 809, 530, 705, 746]\n",
      "Sorted Array: \n",
      " [54, 286, 298, 351, 487, 530, 705, 746, 809, 982]\n"
     ]
    }
   ],
   "execution_count": 56
  },
  {
   "metadata": {},
   "cell_type": "markdown",
   "source": [
    "## Wprowadzenie\n",
    "Bubble Sort jest jednym z najprostszych algorytmów sortowania. Polega na wielokrotnym przechodzeniu przez listę, porównywaniu kolejnych elementów i zamianie ich miejscami, jeśli są w nieodpowiedniej kolejności. Jest to algorytm oparty na porównaniach, odpowiedni dla małych zestawów danych ze względu na swoją niską efektywność w przypadku dużych ilości danych.\n",
    "## Sposób działania\n",
    "1. Algorytm iteruje przez listę elementów.\n",
    "2. Porównuje sąsiednie elementy.\n",
    "3. Jeśli element na bieżącej pozycji jest większy niż element następny, następuje ich zamiana.\n",
    "4. Po każdej iteracji największy element „wypływa” na wierzch, czyli jest przesuwany na swoją docelową pozycję w posortowanej liście.\n",
    "5. Proces jest powtarzany dla reszty elementów, ignorując za każdym razem ostatni element (który już został posortowany).\n",
    "\n",
    "## Złożoność obliczeniowa:\n",
    "- Najgorszy przypadek: **O(n²)** (kiedy lista jest posortowana odwrotnie).\n",
    "- Przeciętny przypadek: **O(n²)**.\n",
    "- Najlepszy przypadek: **O(n)** (gdy lista jest już posortowana, można zastosować optymalizację wykrywania braku zamian)."
   ],
   "id": "5054990d506806be"
  },
  {
   "metadata": {
    "ExecuteTime": {
     "end_time": "2024-12-31T13:00:27.435046Z",
     "start_time": "2024-12-31T13:00:27.430954Z"
    }
   },
   "cell_type": "code",
   "source": [
    "arr = generateArray()\n",
    "print(\"Unsorted Array: \\n\", arr)\n",
    "\n",
    "def selectionSort(array):\n",
    "    n = len(array)\n",
    "    for i in range(n-1):\n",
    "        min_idx = i #index najmniejszej wartości\n",
    "        for j in range(i+1, n):\n",
    "            if array[min_idx] > array[j]: # jeśli aktualny element jest mniejszy od tego pod indeksem min_idx to index min_idx jest zamieniony\n",
    "                min_idx = j\n",
    "        array[i],array[min_idx] = array[min_idx],array[i]\n",
    "\n",
    "selectionSort(arr)\n",
    "print(\"Sorted Array: \\n\", arr)"
   ],
   "id": "40e779aa93f41c32",
   "outputs": [
    {
     "name": "stdout",
     "output_type": "stream",
     "text": [
      "Unsorted Array: \n",
      " [655, 758, 22, 822, 533, 162, 619, 659, 653, 625]\n",
      "Sorted Array: \n",
      " [22, 162, 533, 619, 625, 653, 655, 659, 758, 822]\n"
     ]
    }
   ],
   "execution_count": 57
  },
  {
   "metadata": {},
   "cell_type": "markdown",
   "source": "",
   "id": "53455d6b4da2d643"
  },
  {
   "metadata": {},
   "cell_type": "markdown",
   "source": [
    "## Wprowadzenie\n",
    "Selection Sort (Sortowanie przez wybór) to prosty, ale nieco bardziej efektywny algorytm sortowania niż Bubble Sort. Algorytm ten działa, dzieląc listę na dwie części: posortowaną i nieposortowaną. W każdej iteracji wyszukuje najmniejszy element w części nieposortowanej i przenosi go do części posortowanej, aż cała lista zostanie posortowana.\n",
    "Choć Selection Sort nie jest optymalny dla dużych zbiorów danych, jest użyteczny w kontekstach, gdzie prostota implementacji ma większe znaczenie niż wydajność.\n",
    "## Sposób działania\n",
    "1. Lista jest dzielona na dwie części: **posortowaną** i **nieposortowaną**.\n",
    "2. Algorytm iteruje przez nieposortowaną część listy, znajdując najmniejszy element.\n",
    "3. Po znalezieniu najmniejszego elementu, algorytm zamienia go miejscami z pierwszym elementem części nieposortowanej.\n",
    "4. Krok ten jest powtarzany dla reszty listy, za każdym razem skracając część nieposortowaną o jeden element.\n",
    "5. Proces kończy się, gdy cała lista znajduje się w części posortowanej.\n",
    "\n",
    "## Złożoność obliczeniowa:\n",
    "- **Najgorszy przypadek:** O(n²) – dla nieposortowanej listy.\n",
    "- **Przeciętny przypadek:** O(n²).\n",
    "- **Najlepszy przypadek:** O(n²) – nawet jeśli dane są wstępnie posortowane (porównania są wykonywane zawsze).\n",
    "\n",
    "## Pamięciowa złożoność obliczeniowa:\n",
    "- Algorytm jest \"in-place\", co oznacza, że nie wymaga dodatkowej pamięci oprócz oryginalnego zbioru danych (**O(1)** pamięci dodatkowej)."
   ],
   "id": "99fecf452554edc7"
  },
  {
   "metadata": {
    "ExecuteTime": {
     "end_time": "2024-12-31T13:00:27.450909Z",
     "start_time": "2024-12-31T13:00:27.446988Z"
    }
   },
   "cell_type": "code",
   "source": [
    "arr = generateArray()\n",
    "print(\"Unsorted Array: \\n\", arr)\n",
    "\n",
    "def partition(array,low,high):\n",
    "    i=(low-1) # (low - 1) zapobiega wyjściu indeksu poza zakres\n",
    "    pivot = array[high] #element rozdzielający tablicę\n",
    "    for j in range(low,high):\n",
    "        if array[j]<=pivot:\n",
    "            i+=1\n",
    "            array[i],array[j] = array[j],array[i]\n",
    "    array[i+1],array[high]=array[high],array[i+1]\n",
    "    return  (i+1)\n",
    "\n",
    "def quickSort(array,low,high):\n",
    "    if len(array)==1:\n",
    "        return array\n",
    "    if low<high:\n",
    "        pi = partition(array,low,high)\n",
    "        quickSort(array,low,pi-1)\n",
    "        quickSort(array,pi+1,high)\n",
    "\n",
    "quickSort(arr, 0, len(arr)-1)\n",
    "\n",
    "print(\"Sorted Array: \\n\", arr)"
   ],
   "id": "f88104a72077a9b7",
   "outputs": [
    {
     "name": "stdout",
     "output_type": "stream",
     "text": [
      "Unsorted Array: \n",
      " [661, 799, 87, 523, 13, 725, 497, 969, 81, 765]\n",
      "Sorted Array: \n",
      " [13, 81, 87, 497, 523, 661, 725, 765, 799, 969]\n"
     ]
    }
   ],
   "execution_count": 58
  },
  {
   "metadata": {},
   "cell_type": "markdown",
   "source": [
    "## Wprowadzenie\n",
    "**QuickSort**, czyli sortowanie szybkie (ang. quick sort), to jeden z najwydajniejszych algorytmów sortowania opartego na porównaniach. Wykorzystuje technikę \"dziel i zwyciężaj\" (ang. divide and conquer), co oznacza, że dzieli dane na mniejsze części, które są następnie sortowane indywidualnie.\n",
    "Głównym krokiem algorytmu jest tzw. **podział (partitioning)**, który reorganizuje tablicę tak, aby jeden element zwany \"pivotem\" znalazł się na swojej docelowej pozycji, a wszystkie elementy mniejsze znalazły się z jego lewej strony, a większe – z prawej.\n",
    "W załączonym kodzie funkcje `partition` i `quickSort` realizują właśnie te kroki.\n",
    "## Funkcja `partition`\n",
    "### Opis\n",
    "Funkcja `partition` realizuje podział tablicy na dwie części względem elementu pivot, który jest wybierany jako ostatni element bieżącej części tablicy. Jej zadaniem jest zapewnienie, że elementy mniejsze lub równe pivot znajdą się po jego lewej stronie, a elementy większe – po prawej.\n",
    "\n",
    "### Parametry\n",
    "- `array` – Tablica wejściowa, która ma zostać podzielona.\n",
    "- `low` – Indeks początkowy podtablicy do podziału.\n",
    "- `high` – Indeks końcowy podtablicy do podziału (pivot znajduje się na pozycji `high`).\n",
    "\n",
    "### Zwracana wartość\n",
    "Zwracana jest pozycja pivota po podziale (`i + 1`), który znajduje się na swojej docelowej pozycji w posortowanej liście.\n",
    "### Jak działa?\n",
    "1. Ustaw wakacyjny indeks `i` na wartości `low - 1` (tu będą przesuwane elementy mniejsze bądź równe pivotowi).\n",
    "2. Wybierz pivot jako element na pozycji `high`.\n",
    "3. Iteruj przez elementy tablicy w zakresie od `low` do `high - 1`:\n",
    "    - Jeśli bieżący element jest mniejszy lub równy pivot, przesuń indeks `i` i zamień bieżący element z elementem na pozycji `i`.\n",
    "\n",
    "4. Po zakończeniu iteracji zamień pivot z elementem na pozycji `i + 1`.\n",
    "5. Zwróć nową pozycję pivota.\n",
    "\n",
    "### Złożoność obliczeniowa\n",
    "- **Czasowo**: O(n), gdzie _n_ to długość podtablicy od `low` do `high`.\n",
    "- **Pamięciowo**: O(1) – funkcja działa \"in-place\".\n",
    "\n",
    "## Funkcja `quickSort`\n",
    "### Opis\n",
    "Funkcja `quickSort` implementuje rekursywny algorytm QuickSort z wykorzystaniem funkcji `partition`. Dzieli tablicę na mniejsze podtablice względem pozycji pivota i sortuje każdą z nich osobno.\n",
    "\n",
    "### Parametry\n",
    "- `array` – Tablica wejściowa do posortowania.\n",
    "- `low` – Indeks początkowy zakresu do posortowania.\n",
    "- `high` – Indeks końcowy zakresu do posortowania.\n",
    "\n",
    "\n",
    "### Jak działa?\n",
    "1. **Warunek stopu rekursji:** Jeśli `low >= high`, nie wykonuj dalszych operacji.\n",
    "2. Wywołaj funkcję `partition`, aby znaleźć pozycję `pi` pivota.\n",
    "3. Rekursywnie wywołuj `quickSort` dla dwóch podtablic:\n",
    "    - Od `low` do `pi - 1` (elementy mniejsze od pivota),\n",
    "    - Od `pi + 1` do `high` (elementy większe od pivota).\n",
    "\n",
    "4. Proces powtarza się aż do posortowania całej tablicy.\n",
    "\n",
    "### Złożoność obliczeniowa\n",
    "- **Najgorszy przypadek**: O(n²) – gdy pivot za każdym razem prowadzi do bardzo nierównych podziałów (np. tablica posortowana wstępnie rosnąco lub malejąco).\n",
    "- **Przeciętny przypadek**: O(nlog n) – zakłada równomierny podział tablicy.\n",
    "- **Najlepszy przypadek**: O(nlog n) – jeśli pivot zawsze dzieli tablicę idealnie.\n",
    "\n",
    "### Złożoność pamięciowa\n",
    "- **Rekursja**: O(log n) dla stosu wywołań – w optymalnych przypadkach.\n",
    "- **In-place**: Algorytm nie wymaga dodatkowej pamięci dla samej tablicy."
   ],
   "id": "2b78f653f90dbe23"
  },
  {
   "metadata": {
    "ExecuteTime": {
     "end_time": "2024-12-31T13:00:27.465154Z",
     "start_time": "2024-12-31T13:00:27.461090Z"
    }
   },
   "cell_type": "code",
   "source": [
    "arr = generateArray()\n",
    "print(\"Unsorted Array: \\n\", arr)\n",
    "\n",
    "def mergeSort(array):\n",
    "    if len(array) > 1:\n",
    "        middle = len(array)//2 # środkowy indeks dzielący tablicę na pół\n",
    "        left = array[:middle] #tablica składająca się z elementów na lewo od środkowego elementu\n",
    "        right= array[middle:] #tablica składająca się z elementów: środkowego i na prawo od środka\n",
    "\n",
    "        mergeSort(left)\n",
    "        mergeSort(right)\n",
    "\n",
    "        i=j=k=0\n",
    "        while i<len(left) and j<len(right):\n",
    "            if left[i] < right[j]:\n",
    "                array[k] = left[i]\n",
    "                i+=1\n",
    "            else:\n",
    "                array[k] = right[j]\n",
    "                j+=1\n",
    "            k+=1\n",
    "        # Dwie poniższe pętle while są potrzebne, ponieważ powyższa pętla while się kończy, kiedy przejdziemy przez wszystkie elementy JEDNEJ tablicy, a więc w drugiej tablicy jeszcze zostały jakieś elementy\n",
    "        while i < len(left):# pętla przepisująca pozostałe elementy z pod-tablicy left\n",
    "            array[k] = left[i]\n",
    "            i+=1\n",
    "            k+=1\n",
    "        while j < len(right):# pętla przepisująca pozostałe elementy z pod-tablicy right\n",
    "            arr[k] = right[j]\n",
    "            j+=1\n",
    "            k+=1\n",
    "        #ponieważ dzielimy merge sortem na jednoelementowe tablice i potem je łączymy to elementy w left i right będą ułożone rosnąco\n",
    "mergeSort(arr)\n",
    "\n",
    "print(\"Sorted Array: \\n\", arr)"
   ],
   "id": "ca2e5e6f2e158e39",
   "outputs": [
    {
     "name": "stdout",
     "output_type": "stream",
     "text": [
      "Unsorted Array: \n",
      " [464, 174, 374, 965, 219, 212, 768, 187, 340, 818]\n",
      "Sorted Array: \n",
      " [174, 187, 212, 219, 340, 374, 219, 464, 768, 818]\n"
     ]
    }
   ],
   "execution_count": 59
  },
  {
   "metadata": {},
   "cell_type": "markdown",
   "source": [
    "## Wprowadzenie\n",
    "**Merge Sort** (Sortowanie przez scalanie) to algorytm sortowania oparty na metodzie \"dziel i zwyciężaj\" (ang. _divide and conquer_). Algorytm dzieli tablicę na mniejsze części, sortuje każdą z nich oddzielnie, a następnie scala je w odpowiedniej kolejności, tworząc posortowaną listę.\n",
    "Merge Sort jest jednym z najbardziej wydajnych algorytmów sortowania. W porównaniu do innych metod, takich jak QuickSort, charakteryzuje się ustaloną złożonością czasową **O(n log n)** w każdym przypadku, co czyni go stabilnym wyborem w wielu sytuacjach.\n",
    "\n",
    "## Kroki działania algorytmu\n",
    "1. **Podział tablicy:**\n",
    "    - Tablica wejściowa jest dzielona na dwie części na podstawie indeksu middle.\n",
    "    - Sekcja \"left\" składa się z elementów od początku do środka tablicy, a sekcja \"right\" zawiera pozostałe elementy.\n",
    "\n",
    "2. **Rekursywne sortowanie podtablic:**\n",
    "    - `mergeSort` jest wywoływana na tych dwóch podtablicach aż do osiągnięcia jednoelementowych list.\n",
    "\n",
    "3. **Scalanie podtablic:**\n",
    "    - Po osiągnięciu maksymalnego poziomu podziału, tablice są ponownie scalane w uporządkowanej kolejności.\n",
    "    - Najpierw porównywane są elementy obu podtablic (lewej i prawej), tworząc uporządkowaną całość, a następnie dodawane są pozostałe elementy.\n",
    "\n",
    "## Złożoność czasowa\n",
    "   - **Najgorszy przypadek**: O(n log n) – dzielenie zakresu na połowy i scalanie.\n",
    "   - **Średni przypadek**: O(n log n).\n",
    "   - **Najlepszy przypadek**: O(n log n).\n",
    "\n",
    "## Złożoność pamięciowa\n",
    "   - **Dodatkowa pamięć**: O(n) – dla tablicy pośredniej w procesie scalania."
   ],
   "id": "acef498dc9e87088"
  },
  {
   "metadata": {
    "ExecuteTime": {
     "end_time": "2024-12-31T13:00:27.478559Z",
     "start_time": "2024-12-31T13:00:27.474154Z"
    }
   },
   "cell_type": "code",
   "source": [
    "arr = generateArray()\n",
    "print(\"Unsorted Array: \\n\", arr)\n",
    "\n",
    "def Heapify(array, n, i):# funkcja tworząca kopiec z tablicy\n",
    "    largest =  i #indeks wskazujący największy element, na początku ustawiony na i\n",
    "    left = 2*i+1 #lewy indeks\n",
    "    right = 2*i+2 #prawy indeks\n",
    "    if left < n and array[largest] < array[left]:\n",
    "        largest = left\n",
    "    if right < n and array[largest] < array[right]:\n",
    "        largest = right\n",
    "    if largest != i:\n",
    "        array[i],array[largest] = array[largest], array[i]\n",
    "        Heapify(array, n,largest)\n",
    "\n",
    "def heapSort(array):\n",
    "    n =len(array)\n",
    "    for i in range(n//2 - 1,-1,-1):\n",
    "        Heapify(array,n,i)\n",
    "    for i in range(n-1, 0,-1):\n",
    "        array[i], array[0] = array[0], array[i]\n",
    "        Heapify(array,i,0)\n",
    "\n",
    "heapSort(arr)\n",
    "\n",
    "print(\"Sorted Array: \\n\", arr)"
   ],
   "id": "7212141935277c14",
   "outputs": [
    {
     "name": "stdout",
     "output_type": "stream",
     "text": [
      "Unsorted Array: \n",
      " [260, 931, 986, 593, 702, 859, 825, 465, 371, 770]\n",
      "Sorted Array: \n",
      " [260, 371, 465, 593, 702, 770, 825, 859, 931, 986]\n"
     ]
    }
   ],
   "execution_count": 60
  },
  {
   "metadata": {},
   "cell_type": "markdown",
   "source": [
    "## Wprowadzenie\n",
    "Heap Sort (Sortowanie przez kopcowanie) to wydajny algorytm sortowania, który działa w czasie **O(n log n)**. Wykorzystuje strukturę danych znaną jako kopiec (ang. _heap_). Heap Sort najpierw buduje **kopiec maksymalny**, a następnie sukcesywnie przenosi największe elementy na koniec tablicy, zmniejszając stopniowo obszar roboczy kopca.\n",
    "### Struktura kopca:\n",
    "Kopiec maksymalny (ang. _max-heap_) to binarne drzewo pełne, w którym:\n",
    "- Każdy węzeł jest większy lub równy swoim dzieciom.\n",
    "- Korzeń kopca zawiera największy element.\n",
    "\n",
    "Funkcja `heapify` pełni kluczową rolę w tym algorytmie, zapewniając, że elementy danego poddrzewa spełniają warunki kopca maksymalnego.\n",
    "\n",
    "## Funkcja `heapify`\n",
    "### Opis\n",
    "Funkcja `heapify` przerabia część tablicy (reprezentowaną jako poddrzewo) na kopiec maksymalny. Gwarantuje, że węzeł nadrzędny jest większy od swoich dzieci, przekształcając lokalną strukturę tak, aby spełniała warunki kopca.\n",
    "\n",
    "### Parametry\n",
    "- `array`: Lista (tablica), którą należy przekształcić w kopiec.\n",
    "- `n`: Liczba elementów w kopcu (zakres podtablicy, której dotyczy operacja).\n",
    "- `i`: Indeks węzła, od którego rozpoczyna się proces kopcowania (korzeń poddrzewa).\n",
    "\n",
    "### Zwracana wartość\n",
    "Funkcja `heapify` nie zwraca żadnej wartości i modyfikuje tablicę **in-place**.\n",
    "\n",
    "### Kroki działania funkcji `heapify`:\n",
    "1. Ustaw `largest` na indeks węzła `i`, który jest korzeniem poddrzewa.\n",
    "2. Wyznacz indeksy lewej (`2*i + 1`) i prawej (`2*i + 2`) gałęzi.\n",
    "3. Porównaj wartość węzła `i` z jego lewym dzieckiem:\n",
    "    - Jeśli lewe dziecko ma większą wartość, zaktualizuj `largest` na jego indeks.\n",
    "\n",
    "4. Porównaj wartość węzła `largest` z prawym dzieckiem:\n",
    "    - Jeśli prawe dziecko jest większe, zaktualizuj `largest` na jego indeks.\n",
    "\n",
    "5. Jeśli `largest` został zmodyfikowany:\n",
    "    - Zamień wartość węzła `i` z węzłem o indeksie `largest`.\n",
    "    - Wywołaj rekurencyjnie `heapify` dla poddrzewa o korzeniu `largest`.\n",
    "\n",
    "## Funkcja `heapSort`\n",
    "### Opis\n",
    "Funkcja `heapSort` implementuje algorytm sortowania przez kopcowanie. Najpierw buduje kopiec maksymalny z tablicy, a następnie sukcesywnie usuwa największe elementy (korzenie kopca), przesuwając je na koniec tablicy, i zmniejszając rozmiar kopca.\n",
    "\n",
    "### Parametry\n",
    "- `array`: Lista (tablica), którą należy posortować.\n",
    "\n",
    "### Zwracana wartość\n",
    "Funkcja nie zwraca żadnej wartości – modyfikuje podaną tablicę **in-place** w kolejności rosnącej.\n",
    "\n",
    "### Kroki działania funkcji `heapSort`:\n",
    "1. **Budowanie kopca maksymalnego:**\n",
    "    - Przekształć całą tablicę w kopiec maksymalny, wywołując `heapify` od prawego najmniejszego \"nienalewowego\" węzła.\n",
    "    - Proces ten rozpoczyna się od elementu na indeksie `n//2 - 1` i przesuwa w kierunku indeksu `0`.\n",
    "\n",
    "2. **Ekstrakcja największego elementu:**\n",
    "    - Zamień pierwszy element (największy) z ostatnim w kopcu.\n",
    "    - Zmniejsz rozmiar kopca o 1.\n",
    "    - Wywołaj `heapify` na korzeniu kopca w celu przywrócenia właściwości kopca maksymalnego w pozostałej podtablicy.\n",
    "\n",
    "3. Powtarzaj krok 2, aż cały kopiec zostanie przekształcony w posortowaną tablicę.\n",
    "\n",
    "## Złożoność czasowa\n",
    "1. **Budowanie kopca:** O(n).\n",
    "2. **Ekstrakcja elementów:** O(n log n) – każda operacja `heapify` w maksymalnym kopcu o rozmiarze `n` ma złożoność O(log n).\n",
    "\n",
    "Podsumowując:\n",
    "- _Najgorszy przypadek_: O(n log n).\n",
    "- _Średni przypadek_: O(n log n).\n",
    "- _Najlepszy przypadek_: O(n log n).\n",
    "\n",
    "## Złożoność pamięciowa:\n",
    "- O(1) – funkcja działa w miejscu i nie wymaga dodatkowej pamięci."
   ],
   "id": "4d2fcca69d13ecfe"
  },
  {
   "metadata": {
    "ExecuteTime": {
     "end_time": "2024-12-31T13:00:27.492119Z",
     "start_time": "2024-12-31T13:00:27.488350Z"
    }
   },
   "cell_type": "code",
   "source": [
    "arr = generateArray()\n",
    "arr.append(1000)\n",
    "arr.append(0)\n",
    "print(\"Unsorted Array: \\n\", arr)\n",
    "\n",
    "def countingSort(array):\n",
    "    size  =len(array)\n",
    "    output = [0]*size #tablica, którą będziemy przepisywać do naszej oryginalnej tablicy\n",
    "    count = [0]*1001 #Mnożę przez liczbę, która będzie największym licznikiem, ponieważ u mnie liczby są z zakresu 0-1000 to mnożę przez 1001. Od 0 do 1000 jest 1001 i tylę muszę mieć liczników.\n",
    "    for i in range(0,size):\n",
    "        count[array[i]] +=1 #zwiększamy licznik dla każdego elementu oryginalnej tablicy\n",
    "    for i in range(1,len(count)): #to przejście mówi ile takich samych lub mniejszych elementów jest w tablicy\n",
    "        count[i] +=count[i-1]\n",
    "\n",
    "    i= size-1\n",
    "    while i>=0:\n",
    "        output[count[array[i]]-1]= array[i]\n",
    "        count[array[i]] -=1\n",
    "        i-=1\n",
    "\n",
    "    for i in range(0,size):\n",
    "        array[i] = output[i]\n",
    "\n",
    "countingSort(arr)\n",
    "\n",
    "print(\"Sorted Array: \\n\", arr)"
   ],
   "id": "9a25d09eaa30744d",
   "outputs": [
    {
     "name": "stdout",
     "output_type": "stream",
     "text": [
      "Unsorted Array: \n",
      " [86, 963, 467, 327, 510, 465, 184, 680, 691, 307, 1000, 0]\n",
      "Sorted Array: \n",
      " [0, 86, 184, 307, 327, 465, 467, 510, 680, 691, 963, 1000]\n"
     ]
    }
   ],
   "execution_count": 61
  },
  {
   "metadata": {},
   "cell_type": "markdown",
   "source": [
    "## Wprowadzenie\n",
    "**Counting Sort** (Sortowanie przez zliczanie) to wydajny algorytm sortowania, który działa na zasadzie zliczania wystąpień poszczególnych wartości w tablicy wejściowej, a następnie wykorzystuje te informacje do umieszczenia elementów w posortowanej kolejności.\n",
    "Counting Sort najlepiej nadaje się do sortowania danych o ograniczonym zakresie wartości (np. wartości całkowitych z niewielkiego przedziału), ponieważ jego złożoność zależy zarówno od długości tablicy wejściowej, jak i zakresu wartości. Algorytm ma złożoność czasową **O(n + k)**, gdzie `n` to liczba elementów do posortowania, a `k` to zakres wartości w tablicy (od najmniejszej do największej).\n",
    "## Funkcja `countingSort`\n",
    "\n",
    "### Opis\n",
    "Funkcja `countingSort` sortuje tablicę liczb całkowitych w sposób stabilny, co oznacza, że elementy o tej samej wartości zachowują swoją pierwotną kolejność.\n",
    "\n",
    "### Parametry\n",
    "- `array`: Lista (tablica) liczb całkowitych do posortowania. Zakłada się, że wszystkie wartości należą do ograniczonego zakresu (np. od 0 do 1000 w tej implementacji).\n",
    "\n",
    "### Zwracana wartość\n",
    "Funkcja nie zwraca wartości, ponieważ tablica wejściowa jest modyfikowana **in-place**.\n",
    "\n",
    "## Kroki działania algorytmu\n",
    "1. **Tablica liczników `count`:**\n",
    "    - Tworzona jest dodatkowa lista `count` o rozmiarze `k + 1` (gdzie `k` to największa wartość w tablicy wejściowej). Każdy indeks tej listy odpowiada liczbie w tablicy wejściowej, a jego wartość wskazuje liczbę wystąpień tej liczby w tablicy.\n",
    "\n",
    "2. **Zliczanie wystąpień:**\n",
    "    - Algorytm iteruje przez tablicę wejściową i dla każdego elementu zwiększa wartość w odpowiadającym mu indeksie tablicy `count`.\n",
    "\n",
    "3. **Obliczanie pozycji skumulowanych:**\n",
    "    - Następnie przekształca tablicę `count` w tablicę pozycji skumulowanych (ang. _prefix sum array_). Każdy indeks w `count` wskazuje, jaka będzie ostateczna pozycja ostatniego wystąpienia danej wartości w posortowanej tablicy (lub liczba elementów mniejszych lub równych tej wartości).\n",
    "\n",
    "4. **Tworzenie tablicy wynikowej:**\n",
    "    - Algorytm iteruje odwrotnie przez tablicę wejściową i przypisuje każdą wartość do odpowiedniej pozycji w tablicy wyjściowej (`output`). Po wykorzystaniu pozycji, wartość w tablicy `count` jest zmniejszana o 1.\n",
    "\n",
    "5. **Aktualizacja tablicy wejściowej:**\n",
    "    - Posortowane elementy z tablicy `output` są przepisywane do tablicy wejściowej.\n",
    "\n",
    "## Złożoność czasowa\n",
    "   - Zliczanie wystąpień: O(n), gdzie `n` to liczba elementów w tablicy.\n",
    "   - Obliczanie pozycji skumulowanych: O(k), gdzie `k` to maksymalna wartość w tablicy wejściowej.\n",
    "   - Tworzenie tablicy wynikowej i przepisanie do tablicy wejściowej: O(n).\n",
    "\n",
    "Łącznie: **O(n + k)**.\n",
    "\n",
    "## Złożoność pamięciowa:\n",
    "   - Tablica wejściowa: O(n).\n",
    "   - Tablica `output`: O(n).\n",
    "   - Tablica `count`: O(k + 1).\n",
    "\n",
    "Łącznie: **O(n + k)**."
   ],
   "id": "4d201c349749a9a5"
  },
  {
   "metadata": {
    "ExecuteTime": {
     "end_time": "2024-12-31T13:00:27.503044Z",
     "start_time": "2024-12-31T13:00:27.498954Z"
    }
   },
   "cell_type": "code",
   "source": [
    "arr = generateArray()\n",
    "print(\"Unsorted array: \\n\", arr)\n",
    "\n",
    "def countingSort(array,exp1):\n",
    "    n =  len(array)\n",
    "    output = [0]*n\n",
    "    count = [0]*10\n",
    "    for i in range(0,n):\n",
    "        index = array[i]//exp1\n",
    "        count[index%10] += 1\n",
    "    for i in range(1,10):\n",
    "        count[i]  += count[i-1]\n",
    "\n",
    "    i = n-1\n",
    "    while i>= 0:\n",
    "        index = array[i]//exp1\n",
    "        output[count[index%10]-1]=array[i]\n",
    "        count[index%10]-= 1\n",
    "        i-=1\n",
    "    for i in range(0,n):\n",
    "        array[i] = output[i]\n",
    "\n",
    "def radixSort(array):\n",
    "    max1 = max(array)\n",
    "    exp =1\n",
    "    while max1//exp >=1:\n",
    "        countingSort(array,exp)\n",
    "        exp*=10\n",
    "\n",
    "radixSort(arr)\n",
    "print(\"Sorted array: \\n\",arr)"
   ],
   "id": "25b0f8d14575ef7",
   "outputs": [
    {
     "name": "stdout",
     "output_type": "stream",
     "text": [
      "Unsorted array: \n",
      " [895, 747, 471, 641, 433, 617, 7, 566, 713, 386]\n",
      "Sorted array: \n",
      " [7, 386, 433, 471, 566, 617, 641, 713, 747, 895]\n"
     ]
    }
   ],
   "execution_count": 62
  },
  {
   "metadata": {},
   "cell_type": "markdown",
   "source": [
    "## Wprowadzenie\n",
    "**Radix Sort** to algorytm sortowania oparty na systemie pozycyjnym (ang. _radix_), który sortuje liczby, przetwarzając je według ich kolejnych cyfr, zaczynając od najmniej znaczącej cyfry (LSD - Least Significant Digit) do najbardziej znaczącej cyfry (MSD - Most Significant Digit). Radix Sort jest wykorzystywany w połączeniu z **Counting Sort**, który w tym przypadku pełni funkcję sortowania stabilnego dla każdej cyfry.\n",
    "Przy założeniu, że mamy liczby całkowite o ograniczonej liczbie cyfr, **Radix Sort** osiąga złożoność czasową **O(nk)**, gdzie `n` to liczba elementów do posortowania, a `k` to liczba cyfr w największym elemencie (np. liczba cyfr w systemie dziesiętnym).\n",
    "## Funkcja `countingSort`\n",
    "\n",
    "### Opis\n",
    "Funkcja **`countingSort`** jest pomocnicza w algorytmie **Radix Sort**. Służy do stabilnego sortowania elementów tablicy według danej cyfry (np. jedności, dziesiątek, setek), wykorzystując algorytm Sortowania przez Zliczanie (Counting Sort).\n",
    "\n",
    "### Parametry\n",
    "- `array`: Tablica liczb całkowitych, która ma być posortowana.\n",
    "- `exp1`: Wartość odpowiadająca aktualnej cyfrze, według której przeprowadzane jest sortowanie (np. dla jedności `exp1 = 1`, dla dziesiątek `exp1 = 10`, dla setek `exp1 = 100` itd.).\n",
    "\n",
    "### Zwracana wartość\n",
    "Funkcja **nie zwraca żadnej wartości** – modyfikuje tablicę wejściową (`array`) **in-place**.\n",
    "\n",
    "### Działanie:\n",
    "1. Tworzy pomocniczą tablicę `count` o rozmiarze `10` – ponieważ w systemie dziesiętnym są cyfry od `0` do `9`. Każdy indeks `count` przechowuje liczbę wartości, które mają daną cyfrę w aktualnym miejscu (np. dziesiątki).\n",
    "2. Iteruje przez elementy tablicy wejściowej i zlicza wystąpienia odpowiednich cyfr na podstawie wartości cyfry wybranej przez `exp1` (np. dla `exp1 = 10` wyciągana jest cyfra dziesiątek poprzez `(arr[i] // exp1) % 10`).\n",
    "3. Przekształca tablicę `count` w tablicę pozycji skumulowanych (_prefix sum_). To pozwala określić, gdzie kończy się posortowany zakres danych dla danej cyfry.\n",
    "4. Iteruje odwrotnie przez tablicę wejściową, przypisując elementy do tablicy wyjściowej `output` w odpowiedniej kolejności, zaczynając od końca, co zapewnia stabilność sortowania (elementy o tej samej cyfrze zachowują pierwotną kolejność).\n",
    "5. Przenosi posortowane dane z tablicy `output` z powrotem do `array`.\n",
    "\n",
    "## Funkcja `radixSort`\n",
    "\n",
    "### Opis\n",
    "Funkcja **`radixSort`** implementuje algorytm Radix Sort, który wykorzystuje funkcję `countingSort` do posortowania elementów według każdej cyfry (od najbardziej do najmniej znaczącej).\n",
    "\n",
    "### Parametry\n",
    "- `array`: Tablica liczb całkowitych, która ma być posortowana.\n",
    "\n",
    "### Zwracana wartość\n",
    "Funkcja **nie zwraca żadnej wartości**, a jedynie modyfikuje tablicę wejściową (`array`) **in-place**.\n",
    "### Działanie:\n",
    "1. Znajduje maksymalną wartość w tablicy (`max1`) – określa to, ile cyfr trzeba przetworzyć (np. liczba `5432` wymaga 4 iteracji dla cyfr: jedności, dziesiątek, setek, tysięcy).\n",
    "2. Rozpoczyna sortowanie zgodnie z kolejnymi cyframi. Używana jest liczba dziesiętna `exp`, która wskazuje aktualną pozycję cyfry:\n",
    "    - `exp = 1`: jedności,\n",
    "    - `exp = 10`: dziesiątki,\n",
    "    - `exp = 100`: setki itd.\n",
    "\n",
    "3. Dla każdej wartości `exp`, funkcja `countingSort` stabilnie sortuje elementy tablicy względem cyfr na tej pozycji.\n",
    "4. Proces jest powtarzany, dopóki `max1 // exp >= 1`, co oznacza, że zostały jeszcze cyfry do posortowania.\n",
    "\n",
    "## Złożoność czasowa\n",
    "   - Sortowanie dla każdej cyfry: O(n + k), gdzie `k = 10` dla liczb w systemie dziesiętnym.\n",
    "   - Liczba cyfr: O(d), gdzie `d` to maksymalna liczba cyfr w liczbach.\n",
    "   - Łącznie: **O(n * d)**.\n",
    "\n",
    "## Złożoność pamięciowa\n",
    "   - Tablica `count`: O(k).\n",
    "   - Tablica `output`: O(n).\n",
    "   - Łącznie: **O(n + k)**."
   ],
   "id": "ae8eb2ecb5bca3e7"
  },
  {
   "metadata": {
    "ExecuteTime": {
     "end_time": "2024-12-31T13:00:27.518806Z",
     "start_time": "2024-12-31T13:00:27.513559Z"
    }
   },
   "cell_type": "code",
   "source": [
    "arr = generateArray()\n",
    "for i in range(len(arr)): #Oryginalny bucket sort działa dla liczb z zakresu od 0 do 1\n",
    "    arr[i] = arr[i] / 1000\n",
    "print(\"Unsorted array: \\n\", arr)\n",
    "\n",
    "def insertionSort(array):\n",
    "    n= len(array)\n",
    "    for i in range(1, n):\n",
    "        insert_index = i\n",
    "        current_value = array.pop(i)\n",
    "        for j in range(i - 1, -1, -1):\n",
    "            if array[j] > current_value:\n",
    "                insert_index = j\n",
    "        array.insert(insert_index, current_value)\n",
    "    return array\n",
    "\n",
    "def bucketSort(array):\n",
    "    temporary = [] #tymczasowa tablica przechowująca tablice liczb podzielonych na zakresy\n",
    "    numberOfBuckets = 10 #liczba kubełków\n",
    "    for i in range(numberOfBuckets): #Pętla wkładająca puste tablice do tablicy temporary\n",
    "        temporary.append([])\n",
    "    for j in array: #rodzielenie liczb do tablic w zależności od części dziesiętnych liczby\n",
    "        bucketIndex = int(numberOfBuckets * j)\n",
    "        temporary[bucketIndex].append(j)\n",
    "\n",
    "    for i in range(numberOfBuckets):\n",
    "        temporary[i] = insertionSort(temporary[i]) #sortowanie poszczególnych kubełków za pomocą insertion sort\n",
    "    k=0\n",
    "    for i in range(numberOfBuckets):\n",
    "        for j in range(len(temporary[i])):\n",
    "            array[k] = temporary[i][j] #Łączenie pojedynczych kubełków do oryginalnej tablicy\n",
    "            k+=1\n",
    "    return  array\n",
    "bucketSort(arr)\n",
    "print(\"Sorted array: \\n\",arr)"
   ],
   "id": "56dc9c935e46191",
   "outputs": [
    {
     "name": "stdout",
     "output_type": "stream",
     "text": [
      "Unsorted array: \n",
      " [0.566, 0.16, 0.054, 0.472, 0.515, 0.05, 0.633, 0.113, 0.87, 0.203]\n",
      "Sorted array: \n",
      " [0.05, 0.054, 0.113, 0.16, 0.203, 0.472, 0.515, 0.566, 0.633, 0.87]\n"
     ]
    }
   ],
   "execution_count": 63
  },
  {
   "metadata": {},
   "cell_type": "markdown",
   "source": [
    "## Wprowadzenie\n",
    "**Bucket Sort** (Sortowanie kubełkowe) to algorytm sortowania, który działa poprzez rozdzielenie elementów na grupy (zwane \"kubełkami\") na podstawie ich wartości, a następnie sortowanie elementów wewnątrz każdego kubełka przy użyciu innego algorytmu sortowania (w tym przypadku algorytmu **Insertion Sort**). Po posortowaniu kubełków, ich zawartość jest scalana w jedną tablicę, co daje finalnie posortowany wynik.\n",
    "Twoja implementacja jest dostosowana do sortowania liczb rzeczywistych w zakresie `[0, 1)` w 10 kubełkach, z zastosowaniem sortowania przez wstawianie (Insertion Sort) wewnątrz każdego kubełka.\n",
    "\n",
    "## Funkcja `bucketSort`\n",
    "### Opis\n",
    "Funkcja **`bucketSort`** sortuje wejściową tablicę liczb rzeczywistych w zakresie `[0, 1)` poprzez przypisanie ich do kubełków na podstawie wartości dziesiętnej i sortowanie każdego kubełka za pomocą algorytmu **Insertion Sort**.\n",
    "### Parametry\n",
    "- `array`: Tablica liczb rzeczywistych (float) w zakresie `[0, 1)`, która ma być posortowana.\n",
    "\n",
    "### Zwracana wartość\n",
    "Zwraca posortowaną tablicę (`array`).\n",
    "\n",
    "### Działanie:\n",
    "1. **Tworzenie kubełków:**\n",
    "    - Funkcja zaczyna od utworzenia 10 pustych kubełków, reprezentowanych jako listy w tablicy `temporary`.\n",
    "    - Liczba kubełków może być ustawiona za pomocą zmiennej `numberOfBuckets`, która w tej implementacji jest stała i wynosi 10.\n",
    "\n",
    "2. **Przypisanie elementów do kubełków:**\n",
    "    - Każda wartość `j` w tablicy wejściowej jest mnożona przez liczbę kubełków (`numberOfBuckets`) i rzutowana na liczbę całkowitą, aby obliczyć indeks kubełka (`bucketIndex`).\n",
    "    - Elementy są dodawane do odpowiedniego kubełka w tablicy `temporary`.\n",
    "\n",
    "3. **Sortowanie kubełków:**\n",
    "    - Poszczególne kubełki są sortowane za pomocą algorytmu **Insertion Sort** (funkcja `insertionSort`), który jest wydajny w przypadku małych zbiorów danych, takich jak zawartość kubełka.\n",
    "\n",
    "4. **Scalanie kubełków:**\n",
    "    - Po posortowaniu wszystkie kubełki są łączone do pierwotnej tablicy wejściowej w odpowiedniej kolejności.\n",
    "\n",
    "## Funkcja `insertionSort`\n",
    "### Opis\n",
    "Funkcja **`insertionSort`** sortuje tablicę (lub kubełek) w miejscu (ang. _in-place_), zapewniając stabilność sortowania. Jest to prosty algorytm, który iteracyjnie \"wstawia\" kolejne elementy wejściowe w odpowiednie miejsce w posortowanej części tablicy.\n",
    "### Parametry\n",
    "- `array`: Tablica (lista), którą chcemy posortować.\n",
    "\n",
    "### Zwracana wartość\n",
    "Zwraca posortowaną tablicę.\n",
    "\n",
    "## Złożoność czasowa\n",
    "   - **Przypisywanie elementów do kubełków:** O(n), gdzie `n` to liczba elementów w tablicy.\n",
    "   - **Sortowanie kubełków:** W najgorszym przypadku Insertion Sort ma czas działania O(k²), gdzie `k` to rozmiar pojedynczego kubełka. Przy równomiernym rozkładzie danych każdy kubełek ma ~`n / b` elementów (gdzie `b` to liczba kubełków), co daje **O(n² / b²)**. W praktyce często przyjmuje się niską rzeczywistą złożoność.\n",
    "   - **Scalanie kubełków:** O(n).\n",
    "\n",
    "**Łączna złożoność:** Typowo **O(n)** dla równomiernego rozkładu danych, ale może wzrosnąć do **O(n²)** w najgorszym przypadku dla nierównomiernego rozkładu.\n",
    "\n",
    "## Złożoność pamięciowa\n",
    "   - O(n + b), gdzie `b` to liczba kubełków (stała w tej implementacji)."
   ],
   "id": "55c06bf29aaf3b73"
  },
  {
   "metadata": {
    "ExecuteTime": {
     "end_time": "2024-12-31T13:00:27.532775Z",
     "start_time": "2024-12-31T13:00:27.528969Z"
    }
   },
   "cell_type": "code",
   "source": [
    "arr = generateArray()\n",
    "print(\"Unsorted array: \\n\", arr)\n",
    "\n",
    "def insertionSort(array):\n",
    "    n= len(array)\n",
    "    for i in range(1, n):\n",
    "        insert_index = i\n",
    "        current_value = array.pop(i)\n",
    "        for j in range(i - 1, -1, -1):\n",
    "            if array[j] > current_value:\n",
    "                insert_index = j\n",
    "        array.insert(insert_index, current_value)\n",
    "    return array\n",
    "\n",
    "insertionSort(arr)\n",
    "print(\"Sorted array: \\n\",arr)"
   ],
   "id": "b294364150918082",
   "outputs": [
    {
     "name": "stdout",
     "output_type": "stream",
     "text": [
      "Unsorted array: \n",
      " [770, 81, 775, 523, 653, 340, 799, 743, 650, 526]\n",
      "Sorted array: \n",
      " [81, 340, 523, 526, 650, 653, 743, 770, 775, 799]\n"
     ]
    }
   ],
   "execution_count": 64
  },
  {
   "metadata": {},
   "cell_type": "markdown",
   "source": [
    "## Wprowadzenie\n",
    "**Insertion Sort** (sortowanie przez wstawianie) to jeden z najprostszych algorytmów sortowania, który działa w miejscu (_in-place_) i jest stabilny. Sortowanie odbywa się poprzez podzielenie tablicy na dwie części – posortowaną i nieposortowaną. Algorytm iteracyjnie pobiera kolejne elementy z części nieposortowanej i wstawia je w odpowiednie miejsce w części posortowanej.\n",
    "Insertion Sort działa efektywnie dla małych wejściowych tablic oraz w przypadkach, gdy tablica jest częściowo posortowana. Jego implementacja jest łatwa i intuicyjna.\n",
    "\n",
    "## Algorytm Insertion Sort\n",
    "### Kroki działania\n",
    "1. **Inicjalizacja:**\n",
    "    - Na początku algorytm traktuje pierwszy element tablicy jako posortowany (jednoelementowa tablica jest zawsze posortowana).\n",
    "\n",
    "2. **Iteracja:**\n",
    "    - Przy każdej iteracji algorytm wybiera element z nieposortowanej części tablicy i porównuje go z elementami z części posortowanej, przesuwając większe elementy o jedno miejsce w prawo.\n",
    "\n",
    "3. **Wstawianie:**\n",
    "    - Gdy znajdzie odpowiednie miejsce dla bieżącego elementu, wstawia go w odpowiednią pozycję w części posortowanej.\n",
    "\n",
    "4. **Powtarzanie:**\n",
    "    - Proces jest powtarzany, aż cały zbiór danych zostanie posortowany.\n",
    "\n",
    "### Schemat działania (dla uproszczenia)\n",
    "Dla tablicy wejściowej:\n",
    "`[5, 3, 4, 1, 2]`\n",
    "1. Początkowa część posortowana: `[5]`\n",
    "Nieposortowana: `[3, 4, 1, 2]`\n",
    "2. Wstawienie `3` do części posortowanej: `[3, 5]`\n",
    "Nieposortowana: `[4, 1, 2]`\n",
    "3. Wstawienie `4`: `[3, 4, 5]`\n",
    "Nieposortowana: `[1, 2]`\n",
    "4. Wstawienie `1`: `[1, 3, 4, 5]`\n",
    "Nieposortowana: `[2]`\n",
    "5. Wstawienie `2`: `[1, 2, 3, 4, 5]`\n",
    "\n",
    "Finalna tablica jest posortowana.\n",
    "\n",
    "### Parametry\n",
    "- **`array`**: Tablica (lista) elementów, które mają być posortowane.\n",
    "\n",
    "### Zwracana wartość\n",
    "Zwraca tablicę (`array`) w kolejności rosnącej, posortowaną za pomocą algorytmu przez wstawianie.\n",
    "\n",
    "## Złożoność czasowa\n",
    "   - **Najlepszy przypadek:** O(n)\n",
    "        - Występuje, gdy tablica jest już posortowana. Wówczas każde kolejne porównanie kończy się od razu.\n",
    "\n",
    "   - **Przeciętny przypadek:** O(n²)\n",
    "        - Średnia liczba porównań i przesunięć zależy od długości wejściowej tablicy.\n",
    "\n",
    "   - **Najgorszy przypadek:** O(n²)\n",
    "        - Występuje, gdy tablica jest posortowana w odwrotnej kolejności, ponieważ każdy element musi zostać porównany z każdym innym.\n",
    "\n",
    "\n",
    "## Złożoność pamięciowa\n",
    "   - O(1) (stała złożoność pamięciowa):\n",
    "        - Algorytm działa _in-place_, dzięki czemu nie wymaga dodatkowej pamięci poza zmiennymi pomocniczymi."
   ],
   "id": "fc71b65558e0371f"
  },
  {
   "metadata": {
    "ExecuteTime": {
     "end_time": "2024-12-31T13:00:27.550179Z",
     "start_time": "2024-12-31T13:00:27.546850Z"
    }
   },
   "cell_type": "code",
   "source": [
    "arr = generateArray()\n",
    "print(\"Unsorted array: \\n\", arr)\n",
    "\n",
    "def shellSort(array):\n",
    "    n=len(array)\n",
    "    gap = 2**1 - 1\n",
    "    while gap < n:\n",
    "        j = gap\n",
    "        while j<n:\n",
    "            i = j-gap\n",
    "            while i>=0:\n",
    "                if array[i + gap] >= array[i]:\n",
    "                    break\n",
    "                else:\n",
    "                    array[i + gap],array[i] = array[i], array[i + gap]\n",
    "                i=i-gap\n",
    "            j+=1\n",
    "        gap = gap*2\n",
    "\n",
    "shellSort(arr)\n",
    "print(\"Sorted array: \\n\",arr)"
   ],
   "id": "73baef281378efb8",
   "outputs": [
    {
     "name": "stdout",
     "output_type": "stream",
     "text": [
      "Unsorted array: \n",
      " [96, 581, 81, 446, 141, 19, 99, 859, 334, 964]\n",
      "Sorted array: \n",
      " [19, 81, 96, 99, 141, 334, 446, 581, 859, 964]\n"
     ]
    }
   ],
   "execution_count": 65
  },
  {
   "metadata": {},
   "cell_type": "markdown",
   "source": [
    "## Wprowadzenie\n",
    "**Shell Sort** to rozwinięcie algorytmu **Insertion Sort**, które wprowadza bardziej efektywne podejście do sortowania poprzez użycie tzw. przeskoków (_gaps_). Kluczową cechą Shell Sorta jest to, że początkowo porównywane (a także sortowane) są elementy znacznie od siebie oddalone, co pozwala szybciej \"przemieszczać\" elementy na ich docelowe pozycje. W późniejszych etapach przeskok jest zmniejszany do jednego, co sprawia, że Shell Sort kończy sortowanie jako klasyczne **Insertion Sort**.\n",
    "Algorytm jest **niestabilny** (nie zawsze zachowuje pierwotną kolejność elementów o tych samych wartościach) i działa w miejscu (_in-place_), co oznacza, że nie wymaga dodatkowej pamięci.\n",
    "## Algorytm Shell Sort\n",
    "### Kroki działania\n",
    "1. **Wybór początkowego przeskoku (_gap_):**\n",
    "    - Rozmiar przeskoku wybierany jest jako funkcja długości tablicy wejściowej (np. połowa długości tablicy na początku). Popularne są różne reguły określania przeskoków, np. podziału przez 2 lub wyrafinowane sekwencje jak ciąg Knutha.\n",
    "\n",
    "2. **Sortowanie elementów odległych o `gap`:**\n",
    "    - Dla aktualnego przeskoku porównywane są elementy znajdujące się w odległości `gap` i wymieniane, jeśli są w złej kolejności. Działa to podobnie do **Insertion Sorta**, ale z większym przeskokiem.\n",
    "\n",
    "3. **Zmniejszanie wartości `gap`:**\n",
    "    - Wartość `gap` jest zmniejszana i algorytm ponownie wykonuje sortowanie z nowo wybraną wartością `gap`.\n",
    "\n",
    "4. **Końcowa iteracja z `gap = 1`:**\n",
    "    - Gdy `gap` osiągnie wartość `1`, algorytm działa dokładnie jak klasyczny **Insertion Sort**, co pozwala dopracować ostateczny porządek.\n",
    "\n",
    "### Parametry\n",
    "- **`array`**: Tablica (lista) elementów, które mają być posortowane.\n",
    "\n",
    "### Zwracana wartość\n",
    "Funkcja **nie zwraca żadnej wartości**, a jedynie modyfikuje tablicę wejściową (`array`) **in-place** za pomocą algorytmu Shell Sort.\n",
    "\n",
    "## Złożoność czasowa\n",
    "   - **Najlepszy przypadek:** O(n log n) - występuje dla optymalnej sekwencji przeskoków, gdzie elementy są już częściowo uporządkowane.\n",
    "\n",
    "   - **Średni przypadek:** O(n^(3/2)) lub lepiej w przypadku zaawansowanych sekwencji przeskoków.\n",
    "   - **Najgorszy przypadek:** O(n²) - może wystąpić przy źle dobranej sekwencji przeskoków i bardzo niewłaściwym rozkładzie danych.\n",
    "\n",
    "## Złożoność pamięciowa\n",
    "   - O(1) (stała złożoność pamięciowa):\n",
    "        - Algorytm działa _in-place_, dzięki czemu nie wymaga dodatkowej pamięci."
   ],
   "id": "a67eb9bed0b2d78c"
  }
 ],
 "metadata": {
  "kernelspec": {
   "display_name": "Python 3",
   "language": "python",
   "name": "python3"
  },
  "language_info": {
   "codemirror_mode": {
    "name": "ipython",
    "version": 2
   },
   "file_extension": ".py",
   "mimetype": "text/x-python",
   "name": "python",
   "nbconvert_exporter": "python",
   "pygments_lexer": "ipython2",
   "version": "2.7.6"
  }
 },
 "nbformat": 4,
 "nbformat_minor": 5
}
