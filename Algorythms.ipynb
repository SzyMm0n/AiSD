{
 "cells": [
  {
   "metadata": {
    "ExecuteTime": {
     "end_time": "2024-12-28T19:30:45.878588Z",
     "start_time": "2024-12-28T19:30:45.875621Z"
    }
   },
   "cell_type": "code",
   "source": [
    "import random\n",
    "\n",
    "def generateArray():\n",
    "    n = 10\n",
    "    arr = []\n",
    "    for i in range(n):\n",
    "        arr.append(random.randint(1,1000))\n",
    "    return arr\n"
   ],
   "id": "b5fc384af35880a",
   "outputs": [],
   "execution_count": 24
  },
  {
   "metadata": {
    "collapsed": true,
    "ExecuteTime": {
     "end_time": "2024-12-28T19:30:45.886515Z",
     "start_time": "2024-12-28T19:30:45.882595Z"
    }
   },
   "cell_type": "code",
   "source": [
    "arr = generateArray()\n",
    "print(\"Unsorted Array: \\n\", arr)\n",
    "\n",
    "def bubbleSort(array):\n",
    "    n=len(array)\n",
    "    for i in range(n):\n",
    "        for j in range(n-i-1):\n",
    "            if array[j] > array[j+1]:\n",
    "                array[j],array[j+1] = array[j+1],array[j]\n",
    "bubbleSort(arr)\n",
    "print(\"Sorted Array: \\n\", arr)"
   ],
   "id": "initial_id",
   "outputs": [
    {
     "name": "stdout",
     "output_type": "stream",
     "text": [
      "Unsorted Array: \n",
      " [480, 857, 912, 555, 632, 789, 771, 993, 749, 874]\n",
      "Sorted Array: \n",
      " [480, 555, 632, 749, 771, 789, 857, 874, 912, 993]\n"
     ]
    }
   ],
   "execution_count": 25
  },
  {
   "metadata": {},
   "cell_type": "markdown",
   "source": [
    "## Wprowadzenie\n",
    "Bubble Sort jest jednym z najprostszych algorytmów sortowania. Polega na wielokrotnym przechodzeniu przez listę, porównywaniu kolejnych elementów i zamianie ich miejscami, jeśli są w nieodpowiedniej kolejności. Jest to algorytm oparty na porównaniach, odpowiedni dla małych zestawów danych ze względu na swoją niską efektywność w przypadku dużych ilości danych.\n",
    "## Sposób działania\n",
    "1. Algorytm iteruje przez listę elementów.\n",
    "2. Porównuje sąsiednie elementy.\n",
    "3. Jeśli element na bieżącej pozycji jest większy niż element następny, następuje ich zamiana.\n",
    "4. Po każdej iteracji największy element „wypływa” na wierzch, czyli jest przesuwany na swoją docelową pozycję w posortowanej liście.\n",
    "5. Proces jest powtarzany dla reszty elementów, ignorując za każdym razem ostatni element (który już został posortowany).\n",
    "\n",
    "## Złożoność obliczeniowa:\n",
    "- Najgorszy przypadek: **O(n²)** (kiedy lista jest posortowana odwrotnie).\n",
    "- Przeciętny przypadek: **O(n²)**.\n",
    "- Najlepszy przypadek: **O(n)** (gdy lista jest już posortowana, można zastosować optymalizację wykrywania braku zamian)."
   ],
   "id": "5054990d506806be"
  },
  {
   "metadata": {
    "ExecuteTime": {
     "end_time": "2024-12-28T19:30:45.903066Z",
     "start_time": "2024-12-28T19:30:45.899911Z"
    }
   },
   "cell_type": "code",
   "source": [
    "arr = generateArray()\n",
    "print(\"Unsorted Array: \\n\", arr)\n",
    "\n",
    "def selectionSort(array):\n",
    "    n = len(array)\n",
    "    for i in range(n-1):\n",
    "        min_idx = i #index najmniejszej wartości\n",
    "        for j in range(i+1, n):\n",
    "            if array[min_idx] > array[j]: # jeśli aktualny element jest mniejszy od tego pod indeksem min_idx to index min_idx jest zamieniony\n",
    "                min_idx = j\n",
    "        array[i],array[min_idx] = array[min_idx],array[i]\n",
    "\n",
    "selectionSort(arr)\n",
    "print(\"Sorted Array: \\n\", arr)"
   ],
   "id": "40e779aa93f41c32",
   "outputs": [
    {
     "name": "stdout",
     "output_type": "stream",
     "text": [
      "Unsorted Array: \n",
      " [536, 686, 761, 964, 722, 340, 795, 879, 614, 664]\n",
      "Sorted Array: \n",
      " [340, 536, 614, 664, 686, 722, 761, 795, 879, 964]\n"
     ]
    }
   ],
   "execution_count": 26
  },
  {
   "metadata": {},
   "cell_type": "markdown",
   "source": "",
   "id": "53455d6b4da2d643"
  },
  {
   "metadata": {},
   "cell_type": "markdown",
   "source": [
    "## Wprowadzenie\n",
    "Selection Sort (Sortowanie przez wybór) to prosty, ale nieco bardziej efektywny algorytm sortowania niż Bubble Sort. Algorytm ten działa, dzieląc listę na dwie części: posortowaną i nieposortowaną. W każdej iteracji wyszukuje najmniejszy element w części nieposortowanej i przenosi go do części posortowanej, aż cała lista zostanie posortowana.\n",
    "Choć Selection Sort nie jest optymalny dla dużych zbiorów danych, jest użyteczny w kontekstach, gdzie prostota implementacji ma większe znaczenie niż wydajność.\n",
    "## Sposób działania\n",
    "1. Lista jest dzielona na dwie części: **posortowaną** i **nieposortowaną**.\n",
    "2. Algorytm iteruje przez nieposortowaną część listy, znajdując najmniejszy element.\n",
    "3. Po znalezieniu najmniejszego elementu, algorytm zamienia go miejscami z pierwszym elementem części nieposortowanej.\n",
    "4. Krok ten jest powtarzany dla reszty listy, za każdym razem skracając część nieposortowaną o jeden element.\n",
    "5. Proces kończy się, gdy cała lista znajduje się w części posortowanej.\n",
    "\n",
    "## Złożoność obliczeniowa:\n",
    "- **Najgorszy przypadek:** O(n²) – dla nieposortowanej listy.\n",
    "- **Przeciętny przypadek:** O(n²).\n",
    "- **Najlepszy przypadek:** O(n²) – nawet jeśli dane są wstępnie posortowane (porównania są wykonywane zawsze).\n",
    "\n",
    "## Pamięciowa złożoność obliczeniowa:\n",
    "- Algorytm jest \"in-place\", co oznacza, że nie wymaga dodatkowej pamięci oprócz oryginalnego zbioru danych (**O(1)** pamięci dodatkowej)."
   ],
   "id": "99fecf452554edc7"
  },
  {
   "metadata": {
    "ExecuteTime": {
     "end_time": "2024-12-28T19:30:45.919652Z",
     "start_time": "2024-12-28T19:30:45.915892Z"
    }
   },
   "cell_type": "code",
   "source": [
    "arr = generateArray()\n",
    "print(\"Unsorted Array: \\n\", arr)\n",
    "\n",
    "def partiton(array,low,high):\n",
    "    i=(low-1) # (low - 1) zapobiega wyjściu indeksu poza zakres\n",
    "    pivot = array[high]\n",
    "    for j in range(low,high):\n",
    "        if array[j]<=pivot:\n",
    "            i+=1\n",
    "            array[i],array[j] = array[j],array[i]\n",
    "    array[i+1],array[high]=array[high],array[i+1]\n",
    "    return  (i+1)\n",
    "\n",
    "def quickSort(array,low,high):\n",
    "    if len(array)==1:\n",
    "        return arr\n",
    "    if low<high:\n",
    "        pi = partiton(array,low,high)\n",
    "        quickSort(array,low,pi-1)\n",
    "        quickSort(array,pi+1,high)\n",
    "\n",
    "quickSort(arr, 0, len(arr)-1)\n",
    "\n",
    "print(\"Sorted Array: \\n\", arr)"
   ],
   "id": "f88104a72077a9b7",
   "outputs": [
    {
     "name": "stdout",
     "output_type": "stream",
     "text": [
      "Unsorted Array: \n",
      " [161, 566, 576, 88, 700, 840, 291, 461, 50, 274]\n",
      "Sorted Array: \n",
      " [50, 88, 161, 274, 291, 461, 566, 576, 700, 840]\n"
     ]
    }
   ],
   "execution_count": 27
  },
  {
   "metadata": {},
   "cell_type": "markdown",
   "source": [
    "## Wprowadzenie\n",
    "**QuickSort**, czyli sortowanie szybkie (ang. quick sort), to jeden z najwydajniejszych algorytmów sortowania opartego na porównaniach. Wykorzystuje technikę \"dziel i zwyciężaj\" (ang. divide and conquer), co oznacza, że dzieli dane na mniejsze części, które są następnie sortowane indywidualnie.\n",
    "Głównym krokiem algorytmu jest tzw. **podział (partitioning)**, który reorganizuje tablicę tak, aby jeden element zwany \"pivotem\" znalazł się na swojej docelowej pozycji, a wszystkie elementy mniejsze znalazły się z jego lewej strony, a większe – z prawej.\n",
    "W załączonym kodzie funkcje `partition` i `quickSort` realizują właśnie te kroki.\n",
    "## Funkcja `partition`\n",
    "### Opis\n",
    "Funkcja `partition` realizuje podział tablicy na dwie części względem elementu pivot, który jest wybierany jako ostatni element bieżącej części tablicy. Jej zadaniem jest zapewnienie, że elementy mniejsze lub równe pivot znajdą się po jego lewej stronie, a elementy większe – po prawej.\n",
    "\n",
    "### Parametry\n",
    "- `array` – Tablica wejściowa, która ma zostać podzielona.\n",
    "- `low` – Indeks początkowy podtablicy do podziału.\n",
    "- `high` – Indeks końcowy podtablicy do podziału (pivot znajduje się na pozycji `high`).\n",
    "\n",
    "### Zwracana wartość\n",
    "Zwracana jest pozycja pivota po podziale (`i + 1`), który znajduje się na swojej docelowej pozycji w posortowanej liście.\n",
    "### Jak działa?\n",
    "1. Ustaw wakacyjny indeks `i` na wartości `low - 1` (tu będą przesuwane elementy mniejsze bądź równe pivotowi).\n",
    "2. Wybierz pivot jako element na pozycji `high`.\n",
    "3. Iteruj przez elementy tablicy w zakresie od `low` do `high - 1`:\n",
    "    - Jeśli bieżący element jest mniejszy lub równy pivot, przesuń indeks `i` i zamień bieżący element z elementem na pozycji `i`.\n",
    "\n",
    "4. Po zakończeniu iteracji zamień pivot z elementem na pozycji `i + 1`.\n",
    "5. Zwróć nową pozycję pivota.\n",
    "\n",
    "### Złożoność obliczeniowa\n",
    "- **Czasowo**: O(n), gdzie _n_ to długość podtablicy od `low` do `high`.\n",
    "- **Pamięciowo**: O(1) – funkcja działa \"in-place\".\n",
    "\n",
    "## Funkcja `quickSort`\n",
    "### Opis\n",
    "Funkcja `quickSort` implementuje rekursywny algorytm QuickSort z wykorzystaniem funkcji `partition`. Dzieli tablicę na mniejsze podtablice względem pozycji pivota i sortuje każdą z nich osobno.\n",
    "\n",
    "### Parametry\n",
    "- `array` – Tablica wejściowa do posortowania.\n",
    "- `low` – Indeks początkowy zakresu do posortowania.\n",
    "- `high` – Indeks końcowy zakresu do posortowania.\n",
    "\n",
    "\n",
    "### Jak działa?\n",
    "1. **Warunek stopu rekursji:** Jeśli `low >= high`, nie wykonuj dalszych operacji.\n",
    "2. Wywołaj funkcję `partition`, aby znaleźć pozycję `pi` pivota.\n",
    "3. Rekursywnie wywołuj `quickSort` dla dwóch podtablic:\n",
    "    - Od `low` do `pi - 1` (elementy mniejsze od pivota),\n",
    "    - Od `pi + 1` do `high` (elementy większe od pivota).\n",
    "\n",
    "4. Proces powtarza się aż do posortowania całej tablicy.\n",
    "\n",
    "### Złożoność obliczeniowa\n",
    "- **Najgorszy przypadek**: O(n²) – gdy pivot za każdym razem prowadzi do bardzo nierównych podziałów (np. tablica posortowana wstępnie rosnąco lub malejąco).\n",
    "- **Przeciętny przypadek**: O(nlog n) – zakłada równomierny podział tablicy.\n",
    "- **Najlepszy przypadek**: O(nlog n) – jeśli pivot zawsze dzieli tablicę idealnie.\n",
    "\n",
    "### Złożoność pamięciowa\n",
    "- **Rekursja**: O(log n) dla stosu wywołań – w optymalnych przypadkach.\n",
    "- **In-place**: Algorytm nie wymaga dodatkowej pamięci dla samej tablicy."
   ],
   "id": "2b78f653f90dbe23"
  }
 ],
 "metadata": {
  "kernelspec": {
   "display_name": "Python 3",
   "language": "python",
   "name": "python3"
  },
  "language_info": {
   "codemirror_mode": {
    "name": "ipython",
    "version": 2
   },
   "file_extension": ".py",
   "mimetype": "text/x-python",
   "name": "python",
   "nbconvert_exporter": "python",
   "pygments_lexer": "ipython2",
   "version": "2.7.6"
  }
 },
 "nbformat": 4,
 "nbformat_minor": 5
}
