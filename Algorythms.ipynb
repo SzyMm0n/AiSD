{
 "cells": [
  {
   "metadata": {
    "ExecuteTime": {
     "end_time": "2024-12-29T22:51:51.518280Z",
     "start_time": "2024-12-29T22:51:51.514766Z"
    }
   },
   "cell_type": "code",
   "source": [
    "import random\n",
    "\n",
    "def generateArray():\n",
    "    n = 10\n",
    "    arr = []\n",
    "    for i in range(n):\n",
    "        arr.append(random.randint(0,1000))\n",
    "    return arr\n"
   ],
   "id": "b5fc384af35880a",
   "outputs": [],
   "execution_count": 59
  },
  {
   "metadata": {
    "collapsed": true,
    "ExecuteTime": {
     "end_time": "2024-12-29T22:51:51.527840Z",
     "start_time": "2024-12-29T22:51:51.524336Z"
    }
   },
   "cell_type": "code",
   "source": [
    "arr = generateArray()\n",
    "print(\"Unsorted Array: \\n\", arr)\n",
    "\n",
    "def bubbleSort(array):\n",
    "    n=len(array)\n",
    "    for i in range(n):\n",
    "        for j in range(n-i-1):\n",
    "            if array[j] > array[j+1]:\n",
    "                array[j],array[j+1] = array[j+1],array[j]\n",
    "bubbleSort(arr)\n",
    "print(\"Sorted Array: \\n\", arr)"
   ],
   "id": "initial_id",
   "outputs": [
    {
     "name": "stdout",
     "output_type": "stream",
     "text": [
      "Unsorted Array: \n",
      " [734, 550, 685, 551, 580, 244, 328, 301, 782, 279]\n",
      "Sorted Array: \n",
      " [244, 279, 301, 328, 550, 551, 580, 685, 734, 782]\n"
     ]
    }
   ],
   "execution_count": 60
  },
  {
   "metadata": {},
   "cell_type": "markdown",
   "source": [
    "## Wprowadzenie\n",
    "Bubble Sort jest jednym z najprostszych algorytmów sortowania. Polega na wielokrotnym przechodzeniu przez listę, porównywaniu kolejnych elementów i zamianie ich miejscami, jeśli są w nieodpowiedniej kolejności. Jest to algorytm oparty na porównaniach, odpowiedni dla małych zestawów danych ze względu na swoją niską efektywność w przypadku dużych ilości danych.\n",
    "## Sposób działania\n",
    "1. Algorytm iteruje przez listę elementów.\n",
    "2. Porównuje sąsiednie elementy.\n",
    "3. Jeśli element na bieżącej pozycji jest większy niż element następny, następuje ich zamiana.\n",
    "4. Po każdej iteracji największy element „wypływa” na wierzch, czyli jest przesuwany na swoją docelową pozycję w posortowanej liście.\n",
    "5. Proces jest powtarzany dla reszty elementów, ignorując za każdym razem ostatni element (który już został posortowany).\n",
    "\n",
    "## Złożoność obliczeniowa:\n",
    "- Najgorszy przypadek: **O(n²)** (kiedy lista jest posortowana odwrotnie).\n",
    "- Przeciętny przypadek: **O(n²)**.\n",
    "- Najlepszy przypadek: **O(n)** (gdy lista jest już posortowana, można zastosować optymalizację wykrywania braku zamian)."
   ],
   "id": "5054990d506806be"
  },
  {
   "metadata": {
    "ExecuteTime": {
     "end_time": "2024-12-29T22:51:51.549157Z",
     "start_time": "2024-12-29T22:51:51.546141Z"
    }
   },
   "cell_type": "code",
   "source": [
    "arr = generateArray()\n",
    "print(\"Unsorted Array: \\n\", arr)\n",
    "\n",
    "def selectionSort(array):\n",
    "    n = len(array)\n",
    "    for i in range(n-1):\n",
    "        min_idx = i #index najmniejszej wartości\n",
    "        for j in range(i+1, n):\n",
    "            if array[min_idx] > array[j]: # jeśli aktualny element jest mniejszy od tego pod indeksem min_idx to index min_idx jest zamieniony\n",
    "                min_idx = j\n",
    "        array[i],array[min_idx] = array[min_idx],array[i]\n",
    "\n",
    "selectionSort(arr)\n",
    "print(\"Sorted Array: \\n\", arr)"
   ],
   "id": "40e779aa93f41c32",
   "outputs": [
    {
     "name": "stdout",
     "output_type": "stream",
     "text": [
      "Unsorted Array: \n",
      " [849, 501, 399, 858, 708, 780, 311, 153, 218, 37]\n",
      "Sorted Array: \n",
      " [37, 153, 218, 311, 399, 501, 708, 780, 849, 858]\n"
     ]
    }
   ],
   "execution_count": 61
  },
  {
   "metadata": {},
   "cell_type": "markdown",
   "source": "",
   "id": "53455d6b4da2d643"
  },
  {
   "metadata": {},
   "cell_type": "markdown",
   "source": [
    "## Wprowadzenie\n",
    "Selection Sort (Sortowanie przez wybór) to prosty, ale nieco bardziej efektywny algorytm sortowania niż Bubble Sort. Algorytm ten działa, dzieląc listę na dwie części: posortowaną i nieposortowaną. W każdej iteracji wyszukuje najmniejszy element w części nieposortowanej i przenosi go do części posortowanej, aż cała lista zostanie posortowana.\n",
    "Choć Selection Sort nie jest optymalny dla dużych zbiorów danych, jest użyteczny w kontekstach, gdzie prostota implementacji ma większe znaczenie niż wydajność.\n",
    "## Sposób działania\n",
    "1. Lista jest dzielona na dwie części: **posortowaną** i **nieposortowaną**.\n",
    "2. Algorytm iteruje przez nieposortowaną część listy, znajdując najmniejszy element.\n",
    "3. Po znalezieniu najmniejszego elementu, algorytm zamienia go miejscami z pierwszym elementem części nieposortowanej.\n",
    "4. Krok ten jest powtarzany dla reszty listy, za każdym razem skracając część nieposortowaną o jeden element.\n",
    "5. Proces kończy się, gdy cała lista znajduje się w części posortowanej.\n",
    "\n",
    "## Złożoność obliczeniowa:\n",
    "- **Najgorszy przypadek:** O(n²) – dla nieposortowanej listy.\n",
    "- **Przeciętny przypadek:** O(n²).\n",
    "- **Najlepszy przypadek:** O(n²) – nawet jeśli dane są wstępnie posortowane (porównania są wykonywane zawsze).\n",
    "\n",
    "## Pamięciowa złożoność obliczeniowa:\n",
    "- Algorytm jest \"in-place\", co oznacza, że nie wymaga dodatkowej pamięci oprócz oryginalnego zbioru danych (**O(1)** pamięci dodatkowej)."
   ],
   "id": "99fecf452554edc7"
  },
  {
   "metadata": {
    "ExecuteTime": {
     "end_time": "2024-12-29T22:51:51.567464Z",
     "start_time": "2024-12-29T22:51:51.562955Z"
    }
   },
   "cell_type": "code",
   "source": [
    "arr = generateArray()\n",
    "print(\"Unsorted Array: \\n\", arr)\n",
    "\n",
    "def partition(array,low,high):\n",
    "    i=(low-1) # (low - 1) zapobiega wyjściu indeksu poza zakres\n",
    "    pivot = array[high] #element rozdzielający tablicę\n",
    "    for j in range(low,high):\n",
    "        if array[j]<=pivot:\n",
    "            i+=1\n",
    "            array[i],array[j] = array[j],array[i]\n",
    "    array[i+1],array[high]=array[high],array[i+1]\n",
    "    return  (i+1)\n",
    "\n",
    "def quickSort(array,low,high):\n",
    "    if len(array)==1:\n",
    "        return array\n",
    "    if low<high:\n",
    "        pi = partition(array,low,high)\n",
    "        quickSort(array,low,pi-1)\n",
    "        quickSort(array,pi+1,high)\n",
    "\n",
    "quickSort(arr, 0, len(arr)-1)\n",
    "\n",
    "print(\"Sorted Array: \\n\", arr)"
   ],
   "id": "f88104a72077a9b7",
   "outputs": [
    {
     "name": "stdout",
     "output_type": "stream",
     "text": [
      "Unsorted Array: \n",
      " [331, 350, 871, 763, 215, 620, 880, 95, 861, 46]\n",
      "Sorted Array: \n",
      " [46, 95, 215, 331, 350, 620, 763, 861, 871, 880]\n"
     ]
    }
   ],
   "execution_count": 62
  },
  {
   "metadata": {},
   "cell_type": "markdown",
   "source": [
    "## Wprowadzenie\n",
    "**QuickSort**, czyli sortowanie szybkie (ang. quick sort), to jeden z najwydajniejszych algorytmów sortowania opartego na porównaniach. Wykorzystuje technikę \"dziel i zwyciężaj\" (ang. divide and conquer), co oznacza, że dzieli dane na mniejsze części, które są następnie sortowane indywidualnie.\n",
    "Głównym krokiem algorytmu jest tzw. **podział (partitioning)**, który reorganizuje tablicę tak, aby jeden element zwany \"pivotem\" znalazł się na swojej docelowej pozycji, a wszystkie elementy mniejsze znalazły się z jego lewej strony, a większe – z prawej.\n",
    "W załączonym kodzie funkcje `partition` i `quickSort` realizują właśnie te kroki.\n",
    "## Funkcja `partition`\n",
    "### Opis\n",
    "Funkcja `partition` realizuje podział tablicy na dwie części względem elementu pivot, który jest wybierany jako ostatni element bieżącej części tablicy. Jej zadaniem jest zapewnienie, że elementy mniejsze lub równe pivot znajdą się po jego lewej stronie, a elementy większe – po prawej.\n",
    "\n",
    "### Parametry\n",
    "- `array` – Tablica wejściowa, która ma zostać podzielona.\n",
    "- `low` – Indeks początkowy podtablicy do podziału.\n",
    "- `high` – Indeks końcowy podtablicy do podziału (pivot znajduje się na pozycji `high`).\n",
    "\n",
    "### Zwracana wartość\n",
    "Zwracana jest pozycja pivota po podziale (`i + 1`), który znajduje się na swojej docelowej pozycji w posortowanej liście.\n",
    "### Jak działa?\n",
    "1. Ustaw wakacyjny indeks `i` na wartości `low - 1` (tu będą przesuwane elementy mniejsze bądź równe pivotowi).\n",
    "2. Wybierz pivot jako element na pozycji `high`.\n",
    "3. Iteruj przez elementy tablicy w zakresie od `low` do `high - 1`:\n",
    "    - Jeśli bieżący element jest mniejszy lub równy pivot, przesuń indeks `i` i zamień bieżący element z elementem na pozycji `i`.\n",
    "\n",
    "4. Po zakończeniu iteracji zamień pivot z elementem na pozycji `i + 1`.\n",
    "5. Zwróć nową pozycję pivota.\n",
    "\n",
    "### Złożoność obliczeniowa\n",
    "- **Czasowo**: O(n), gdzie _n_ to długość podtablicy od `low` do `high`.\n",
    "- **Pamięciowo**: O(1) – funkcja działa \"in-place\".\n",
    "\n",
    "## Funkcja `quickSort`\n",
    "### Opis\n",
    "Funkcja `quickSort` implementuje rekursywny algorytm QuickSort z wykorzystaniem funkcji `partition`. Dzieli tablicę na mniejsze podtablice względem pozycji pivota i sortuje każdą z nich osobno.\n",
    "\n",
    "### Parametry\n",
    "- `array` – Tablica wejściowa do posortowania.\n",
    "- `low` – Indeks początkowy zakresu do posortowania.\n",
    "- `high` – Indeks końcowy zakresu do posortowania.\n",
    "\n",
    "\n",
    "### Jak działa?\n",
    "1. **Warunek stopu rekursji:** Jeśli `low >= high`, nie wykonuj dalszych operacji.\n",
    "2. Wywołaj funkcję `partition`, aby znaleźć pozycję `pi` pivota.\n",
    "3. Rekursywnie wywołuj `quickSort` dla dwóch podtablic:\n",
    "    - Od `low` do `pi - 1` (elementy mniejsze od pivota),\n",
    "    - Od `pi + 1` do `high` (elementy większe od pivota).\n",
    "\n",
    "4. Proces powtarza się aż do posortowania całej tablicy.\n",
    "\n",
    "### Złożoność obliczeniowa\n",
    "- **Najgorszy przypadek**: O(n²) – gdy pivot za każdym razem prowadzi do bardzo nierównych podziałów (np. tablica posortowana wstępnie rosnąco lub malejąco).\n",
    "- **Przeciętny przypadek**: O(nlog n) – zakłada równomierny podział tablicy.\n",
    "- **Najlepszy przypadek**: O(nlog n) – jeśli pivot zawsze dzieli tablicę idealnie.\n",
    "\n",
    "### Złożoność pamięciowa\n",
    "- **Rekursja**: O(log n) dla stosu wywołań – w optymalnych przypadkach.\n",
    "- **In-place**: Algorytm nie wymaga dodatkowej pamięci dla samej tablicy."
   ],
   "id": "2b78f653f90dbe23"
  },
  {
   "metadata": {
    "ExecuteTime": {
     "end_time": "2024-12-29T22:51:51.578491Z",
     "start_time": "2024-12-29T22:51:51.573978Z"
    }
   },
   "cell_type": "code",
   "source": [
    "arr = generateArray()\n",
    "print(\"Unsorted Array: \\n\", arr)\n",
    "\n",
    "def mergeSort(array):\n",
    "    if len(array) > 1:\n",
    "        middle = len(array)//2 # środkowy indeks dzielący tablicę na pół\n",
    "        left = array[:middle] #tablica składająca się z elementów na lewo od środkowego elementu\n",
    "        right= array[middle:] #tablica składająca się z elementów: środkowego i na prawo od środka\n",
    "\n",
    "        mergeSort(left)\n",
    "        mergeSort(right)\n",
    "\n",
    "        i=j=k=0\n",
    "        while i<len(left) and j<len(right):\n",
    "            if left[i] < right[j]:\n",
    "                array[k] = left[i]\n",
    "                i+=1\n",
    "            else:\n",
    "                array[k] = right[j]\n",
    "                j+=1\n",
    "            k+=1\n",
    "        # Dwie poniższe pętle while są potrzebne, ponieważ powyższa pętla while się kończy, kiedy przejdziemy przez wszystkie elementy JEDNEJ tablicy, a więc w drugiej tablicy jeszcze zostały jakieś elementy\n",
    "        while i < len(left):# pętla przepisująca pozostałe elementy z pod-tablicy left\n",
    "            array[k] = left[i]\n",
    "            i+=1\n",
    "            k+=1\n",
    "        while j < len(right):# pętla przepisująca pozostałe elementy z pod-tablicy right\n",
    "            arr[k] = right[j]\n",
    "            j+=1\n",
    "            k+=1\n",
    "        #ponieważ dzielimy merge sortem na jednoelementowe tablice i potem je łączymy to elementy w left i right będą ułożone rosnąco\n",
    "mergeSort(arr)\n",
    "\n",
    "print(\"Sorted Array: \\n\", arr)"
   ],
   "id": "ca2e5e6f2e158e39",
   "outputs": [
    {
     "name": "stdout",
     "output_type": "stream",
     "text": [
      "Unsorted Array: \n",
      " [443, 983, 956, 628, 296, 27, 328, 930, 901, 700]\n",
      "Sorted Array: \n",
      " [27, 296, 328, 443, 628, 930, 901, 700, 956, 983]\n"
     ]
    }
   ],
   "execution_count": 63
  },
  {
   "metadata": {},
   "cell_type": "markdown",
   "source": [
    "## Wprowadzenie\n",
    "**Merge Sort** (Sortowanie przez scalanie) to algorytm sortowania oparty na metodzie \"dziel i zwyciężaj\" (ang. _divide and conquer_). Algorytm dzieli tablicę na mniejsze części, sortuje każdą z nich oddzielnie, a następnie scala je w odpowiedniej kolejności, tworząc posortowaną listę.\n",
    "Merge Sort jest jednym z najbardziej wydajnych algorytmów sortowania. W porównaniu do innych metod, takich jak QuickSort, charakteryzuje się ustaloną złożonością czasową **O(n log n)** w każdym przypadku, co czyni go stabilnym wyborem w wielu sytuacjach.\n",
    "\n",
    "## Kroki działania algorytmu\n",
    "1. **Podział tablicy:**\n",
    "    - Tablica wejściowa jest dzielona na dwie części na podstawie indeksu middle.\n",
    "    - Sekcja \"left\" składa się z elementów od początku do środka tablicy, a sekcja \"right\" zawiera pozostałe elementy.\n",
    "\n",
    "2. **Rekursywne sortowanie podtablic:**\n",
    "    - `mergeSort` jest wywoływana na tych dwóch podtablicach aż do osiągnięcia jednoelementowych list.\n",
    "\n",
    "3. **Scalanie podtablic:**\n",
    "    - Po osiągnięciu maksymalnego poziomu podziału, tablice są ponownie scalane w uporządkowanej kolejności.\n",
    "    - Najpierw porównywane są elementy obu podtablic (lewej i prawej), tworząc uporządkowaną całość, a następnie dodawane są pozostałe elementy.\n",
    "\n",
    "## Złożoność czasowa\n",
    "   - **Najgorszy przypadek**: O(n log n) – dzielenie zakresu na połowy i scalanie.\n",
    "   - **Średni przypadek**: O(n log n).\n",
    "   - **Najlepszy przypadek**: O(n log n).\n",
    "\n",
    "## Złożoność pamięciowa\n",
    "   - **Dodatkowa pamięć**: O(n) – dla tablicy pośredniej w procesie scalania."
   ],
   "id": "acef498dc9e87088"
  },
  {
   "metadata": {
    "ExecuteTime": {
     "end_time": "2024-12-29T22:51:51.589538Z",
     "start_time": "2024-12-29T22:51:51.585662Z"
    }
   },
   "cell_type": "code",
   "source": [
    "arr = generateArray()\n",
    "print(\"Unsorted Array: \\n\", arr)\n",
    "\n",
    "def Heapify(array, n, i):# funkcja tworząca kopiec z tablicy\n",
    "    largest =  i #indeks wskazujący największy element, na początku ustawiony na i\n",
    "    left = 2*i+1 #lewy indeks\n",
    "    right = 2*i+2 #prawy indeks\n",
    "    if left < n and array[largest] < array[left]:\n",
    "        largest = left\n",
    "    if right < n and array[largest] < array[right]:\n",
    "        largest = right\n",
    "    if largest != i:\n",
    "        array[i],array[largest] = array[largest], array[i]\n",
    "        Heapify(array, n,largest)\n",
    "\n",
    "def heapSort(array):\n",
    "    n =len(array)\n",
    "    for i in range(n//2 - 1,-1,-1):\n",
    "        Heapify(array,n,i)\n",
    "    for i in range(n-1, 0,-1):\n",
    "        array[i], array[0] = array[0], array[i]\n",
    "        Heapify(array,i,0)\n",
    "\n",
    "heapSort(arr)\n",
    "\n",
    "print(\"Sorted Array: \\n\", arr)"
   ],
   "id": "7212141935277c14",
   "outputs": [
    {
     "name": "stdout",
     "output_type": "stream",
     "text": [
      "Unsorted Array: \n",
      " [375, 997, 474, 128, 169, 307, 709, 346, 973, 209]\n",
      "Sorted Array: \n",
      " [128, 169, 209, 307, 346, 375, 474, 709, 973, 997]\n"
     ]
    }
   ],
   "execution_count": 64
  },
  {
   "metadata": {},
   "cell_type": "markdown",
   "source": [
    "## Wprowadzenie\n",
    "Heap Sort (Sortowanie przez kopcowanie) to wydajny algorytm sortowania, który działa w czasie **O(n log n)**. Wykorzystuje strukturę danych znaną jako kopiec (ang. _heap_). Heap Sort najpierw buduje **kopiec maksymalny**, a następnie sukcesywnie przenosi największe elementy na koniec tablicy, zmniejszając stopniowo obszar roboczy kopca.\n",
    "### Struktura kopca:\n",
    "Kopiec maksymalny (ang. _max-heap_) to binarne drzewo pełne, w którym:\n",
    "- Każdy węzeł jest większy lub równy swoim dzieciom.\n",
    "- Korzeń kopca zawiera największy element.\n",
    "\n",
    "Funkcja `heapify` pełni kluczową rolę w tym algorytmie, zapewniając, że elementy danego poddrzewa spełniają warunki kopca maksymalnego.\n",
    "\n",
    "## Funkcja `heapify`\n",
    "### Opis\n",
    "Funkcja `heapify` przerabia część tablicy (reprezentowaną jako poddrzewo) na kopiec maksymalny. Gwarantuje, że węzeł nadrzędny jest większy od swoich dzieci, przekształcając lokalną strukturę tak, aby spełniała warunki kopca.\n",
    "\n",
    "### Parametry\n",
    "- `array`: Lista (tablica), którą należy przekształcić w kopiec.\n",
    "- `n`: Liczba elementów w kopcu (zakres podtablicy, której dotyczy operacja).\n",
    "- `i`: Indeks węzła, od którego rozpoczyna się proces kopcowania (korzeń poddrzewa).\n",
    "\n",
    "### Zwracana wartość\n",
    "Funkcja `heapify` nie zwraca żadnej wartości i modyfikuje tablicę **in-place**.\n",
    "\n",
    "### Kroki działania funkcji `heapify`:\n",
    "1. Ustaw `largest` na indeks węzła `i`, który jest korzeniem poddrzewa.\n",
    "2. Wyznacz indeksy lewej (`2*i + 1`) i prawej (`2*i + 2`) gałęzi.\n",
    "3. Porównaj wartość węzła `i` z jego lewym dzieckiem:\n",
    "    - Jeśli lewe dziecko ma większą wartość, zaktualizuj `largest` na jego indeks.\n",
    "\n",
    "4. Porównaj wartość węzła `largest` z prawym dzieckiem:\n",
    "    - Jeśli prawe dziecko jest większe, zaktualizuj `largest` na jego indeks.\n",
    "\n",
    "5. Jeśli `largest` został zmodyfikowany:\n",
    "    - Zamień wartość węzła `i` z węzłem o indeksie `largest`.\n",
    "    - Wywołaj rekurencyjnie `heapify` dla poddrzewa o korzeniu `largest`.\n",
    "\n",
    "## Funkcja `heapSort`\n",
    "### Opis\n",
    "Funkcja `heapSort` implementuje algorytm sortowania przez kopcowanie. Najpierw buduje kopiec maksymalny z tablicy, a następnie sukcesywnie usuwa największe elementy (korzenie kopca), przesuwając je na koniec tablicy, i zmniejszając rozmiar kopca.\n",
    "\n",
    "### Parametry\n",
    "- `array`: Lista (tablica), którą należy posortować.\n",
    "\n",
    "### Zwracana wartość\n",
    "Funkcja nie zwraca żadnej wartości – modyfikuje podaną tablicę **in-place** w kolejności rosnącej.\n",
    "\n",
    "### Kroki działania funkcji `heapSort`:\n",
    "1. **Budowanie kopca maksymalnego:**\n",
    "    - Przekształć całą tablicę w kopiec maksymalny, wywołując `heapify` od prawego najmniejszego \"nienalewowego\" węzła.\n",
    "    - Proces ten rozpoczyna się od elementu na indeksie `n//2 - 1` i przesuwa w kierunku indeksu `0`.\n",
    "\n",
    "2. **Ekstrakcja największego elementu:**\n",
    "    - Zamień pierwszy element (największy) z ostatnim w kopcu.\n",
    "    - Zmniejsz rozmiar kopca o 1.\n",
    "    - Wywołaj `heapify` na korzeniu kopca w celu przywrócenia właściwości kopca maksymalnego w pozostałej podtablicy.\n",
    "\n",
    "3. Powtarzaj krok 2, aż cały kopiec zostanie przekształcony w posortowaną tablicę.\n",
    "\n",
    "## Złożoność czasowa\n",
    "1. **Budowanie kopca:** O(n).\n",
    "2. **Ekstrakcja elementów:** O(n log n) – każda operacja `heapify` w maksymalnym kopcu o rozmiarze `n` ma złożoność O(log n).\n",
    "\n",
    "Podsumowując:\n",
    "- _Najgorszy przypadek_: O(n log n).\n",
    "- _Średni przypadek_: O(n log n).\n",
    "- _Najlepszy przypadek_: O(n log n).\n",
    "\n",
    "## Złożoność pamięciowa:\n",
    "- O(1) – funkcja działa w miejscu i nie wymaga dodatkowej pamięci."
   ],
   "id": "4d2fcca69d13ecfe"
  },
  {
   "metadata": {
    "ExecuteTime": {
     "end_time": "2024-12-29T22:53:39.063696Z",
     "start_time": "2024-12-29T22:53:39.059392Z"
    }
   },
   "cell_type": "code",
   "source": [
    "arr = generateArray()\n",
    "arr.append(1000)\n",
    "arr.append(0)\n",
    "print(\"Unsorted Array: \\n\", arr)\n",
    "\n",
    "def countingSort(array):\n",
    "    size  =len(array)\n",
    "    output = [0]*size #tablica, którą będziemy przepisywać do naszej oryginalnej tablicy\n",
    "    count = [0]*1001 #Mnożę przez liczbę, która będzie największym licznikiem, ponieważ u mnie liczby są z zakresu 0-1000 to mnożę przez 1001. Od 0 do 1000 jest 1001 i tylę muszę mieć liczników.\n",
    "    for i in range(0,size):\n",
    "        count[array[i]] +=1 #zwiększamy licznik dla każdego elementu oryginalnej tablicy\n",
    "    for i in range(1,len(count)): #to przejście mówi ile takich samych lub mniejszych elementów jest w tablicy\n",
    "        count[i] +=count[i-1]\n",
    "\n",
    "    i= size-1\n",
    "    while i>=0:\n",
    "        output[count[array[i]]-1]= array[i]\n",
    "        count[array[i]] -=1\n",
    "        i-=1\n",
    "\n",
    "    for i in range(0,size):\n",
    "        array[i] = output[i]\n",
    "\n",
    "countingSort(arr)\n",
    "\n",
    "print(\"Sorted Array: \\n\", arr)"
   ],
   "id": "9a25d09eaa30744d",
   "outputs": [
    {
     "name": "stdout",
     "output_type": "stream",
     "text": [
      "Unsorted Array: \n",
      " [693, 756, 158, 980, 440, 430, 683, 37, 547, 153, 1000, 0]\n",
      "Sorted Array: \n",
      " [0, 37, 153, 158, 430, 440, 547, 683, 693, 756, 980, 1000]\n"
     ]
    }
   ],
   "execution_count": 68
  },
  {
   "metadata": {},
   "cell_type": "markdown",
   "source": [
    "## Wprowadzenie\n",
    "**Counting Sort** (Sortowanie przez zliczanie) to wydajny algorytm sortowania, który działa na zasadzie zliczania wystąpień poszczególnych wartości w tablicy wejściowej, a następnie wykorzystuje te informacje do umieszczenia elementów w posortowanej kolejności.\n",
    "Counting Sort najlepiej nadaje się do sortowania danych o ograniczonym zakresie wartości (np. wartości całkowitych z niewielkiego przedziału), ponieważ jego złożoność zależy zarówno od długości tablicy wejściowej, jak i zakresu wartości. Algorytm ma złożoność czasową **O(n + k)**, gdzie `n` to liczba elementów do posortowania, a `k` to zakres wartości w tablicy (od najmniejszej do największej).\n",
    "## Funkcja `countingSort`\n",
    "\n",
    "### Opis\n",
    "Funkcja `countingSort` sortuje tablicę liczb całkowitych w sposób stabilny, co oznacza, że elementy o tej samej wartości zachowują swoją pierwotną kolejność.\n",
    "\n",
    "### Parametry\n",
    "- `array`: Lista (tablica) liczb całkowitych do posortowania. Zakłada się, że wszystkie wartości należą do ograniczonego zakresu (np. od 0 do 1000 w tej implementacji).\n",
    "\n",
    "### Zwracana wartość\n",
    "Funkcja nie zwraca wartości, ponieważ tablica wejściowa jest modyfikowana **in-place**.\n",
    "\n",
    "## Kroki działania algorytmu\n",
    "1. **Tablica liczników `count`:**\n",
    "    - Tworzona jest dodatkowa lista `count` o rozmiarze `k + 1` (gdzie `k` to największa wartość w tablicy wejściowej). Każdy indeks tej listy odpowiada liczbie w tablicy wejściowej, a jego wartość wskazuje liczbę wystąpień tej liczby w tablicy.\n",
    "\n",
    "2. **Zliczanie wystąpień:**\n",
    "    - Algorytm iteruje przez tablicę wejściową i dla każdego elementu zwiększa wartość w odpowiadającym mu indeksie tablicy `count`.\n",
    "\n",
    "3. **Obliczanie pozycji skumulowanych:**\n",
    "    - Następnie przekształca tablicę `count` w tablicę pozycji skumulowanych (ang. _prefix sum array_). Każdy indeks w `count` wskazuje, jaka będzie ostateczna pozycja ostatniego wystąpienia danej wartości w posortowanej tablicy (lub liczba elementów mniejszych lub równych tej wartości).\n",
    "\n",
    "4. **Tworzenie tablicy wynikowej:**\n",
    "    - Algorytm iteruje odwrotnie przez tablicę wejściową i przypisuje każdą wartość do odpowiedniej pozycji w tablicy wyjściowej (`output`). Po wykorzystaniu pozycji, wartość w tablicy `count` jest zmniejszana o 1.\n",
    "\n",
    "5. **Aktualizacja tablicy wejściowej:**\n",
    "    - Posortowane elementy z tablicy `output` są przepisywane do tablicy wejściowej.\n",
    "\n",
    "## Złożoność czasowa\n",
    "   - Zliczanie wystąpień: O(n), gdzie `n` to liczba elementów w tablicy.\n",
    "   - Obliczanie pozycji skumulowanych: O(k), gdzie `k` to maksymalna wartość w tablicy wejściowej.\n",
    "   - Tworzenie tablicy wynikowej i przepisanie do tablicy wejściowej: O(n).\n",
    "\n",
    "Łącznie: **O(n + k)**.\n",
    "\n",
    "## Złożoność pamięciowa:\n",
    "   - Tablica wejściowa: O(n).\n",
    "   - Tablica `output`: O(n).\n",
    "   - Tablica `count`: O(k + 1).\n",
    "\n",
    "Łącznie: **O(n + k)**."
   ],
   "id": "4d201c349749a9a5"
  },
  {
   "metadata": {},
   "cell_type": "code",
   "outputs": [],
   "execution_count": null,
   "source": "",
   "id": "570ec3667740077f"
  }
 ],
 "metadata": {
  "kernelspec": {
   "display_name": "Python 3",
   "language": "python",
   "name": "python3"
  },
  "language_info": {
   "codemirror_mode": {
    "name": "ipython",
    "version": 2
   },
   "file_extension": ".py",
   "mimetype": "text/x-python",
   "name": "python",
   "nbconvert_exporter": "python",
   "pygments_lexer": "ipython2",
   "version": "2.7.6"
  }
 },
 "nbformat": 4,
 "nbformat_minor": 5
}
