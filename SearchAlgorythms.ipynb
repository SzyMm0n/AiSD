{
 "cells": [
  {
   "metadata": {
    "ExecuteTime": {
     "end_time": "2024-12-31T14:16:03.356935Z",
     "start_time": "2024-12-31T14:16:03.350704Z"
    }
   },
   "cell_type": "code",
   "source": [
    "class Node:\n",
    "    def __init__(self, data=None):\n",
    "        self.data = data\n",
    "        self.left = None\n",
    "        self.right = None\n",
    "class BinarySearchTree:\n",
    "    def __init__(self):\n",
    "        self.root = Node()\n",
    "\n",
    "    def insert(self, data):\n",
    "        if self.root.data is None:\n",
    "            self.root.data = data\n",
    "        else:\n",
    "            def insert_node(node, data):\n",
    "                if data < node.data:\n",
    "                    if node.left is None:\n",
    "                        node.left = Node(data)\n",
    "                    else:\n",
    "                        insert_node(node.left, data)\n",
    "                elif data > node.data:\n",
    "                    if node.right is None:\n",
    "                        node.right = Node(data)\n",
    "                    else:\n",
    "                        insert_node(node.right, data)\n",
    "                else: return \"Data already exists\"\n",
    "\n",
    "            insert_node(self.root, data)\n",
    "\n",
    "    def display(self):\n",
    "        result =\"\"\n",
    "\n",
    "        def NLR(result, node): #To wyświetlenie najpierw wyświetla root'a potem lewe poddrzewo, a potem prawe poddrzewo\n",
    "            if node:\n",
    "                if node.data:\n",
    "                    result += str(node.data) + \" \"\n",
    "                    result = NLR(result, node.left)\n",
    "                    result = NLR(result, node.right)\n",
    "            return result\n",
    "\n",
    "        def LNR(result, node): #To wyświetlanie zaczyna się od lewego poddrzewa potem wyświetla root'a, a potem prawe poddrzewo\n",
    "            if node:\n",
    "                if node.data:\n",
    "                    result = LNR(result, node.left)\n",
    "                    result += str(node.data) + \" \"\n",
    "                    result = LNR(result, node.right)\n",
    "            return result\n",
    "\n",
    "        def LRN(result, node): #To przejście zaczyna się od lewej strony, potem przechodzi na prawą, a kończy na root'cie\n",
    "            if node:\n",
    "                if node.data:\n",
    "                    result = LRN(result, node.left)\n",
    "                    result = LNR(result, node.right)\n",
    "                    result += str(node.data) + \" \"\n",
    "            return result\n",
    "\n",
    "        print(NLR(result, self.root), \"Przejście root,left,right\")\n",
    "        print(LNR(result, self.root), \"Przejście left,root,right\")\n",
    "        print(LRN(result, self.root), \"Przejście left,right,root\")\n",
    "\n",
    "    def search(self, data):\n",
    "        def search_node(node, data):\n",
    "            if node is None: return False\n",
    "            elif node.data == data: return True\n",
    "            elif data < node.data: return search_node(node.left, data)\n",
    "            else: return search_node(node.right, data)\n",
    "\n",
    "        return search_node(self.root, data)\n",
    "\n",
    "\n",
    "tree = BinarySearchTree()\n",
    "tree.insert(3)\n",
    "tree.insert(2)\n",
    "tree.insert(1)\n",
    "tree.insert(8)\n",
    "tree.insert(7)\n",
    "tree.insert(99)\n",
    "\n",
    "tree.display()\n"
   ],
   "id": "80e9bfc4b744a79b",
   "outputs": [
    {
     "name": "stdout",
     "output_type": "stream",
     "text": [
      "3 2 1 8 7 99  Przejście root,left,right\n",
      "1 2 3 7 8 99  Przejście left,root,right\n",
      "1 2 7 8 99 3  Przejście left,right,root\n"
     ]
    }
   ],
   "execution_count": 22
  },
  {
   "metadata": {},
   "cell_type": "code",
   "outputs": [],
   "execution_count": null,
   "source": "",
   "id": "9a4f94847ae2ebbb"
  }
 ],
 "metadata": {
  "kernelspec": {
   "display_name": "Python 3",
   "language": "python",
   "name": "python3"
  },
  "language_info": {
   "codemirror_mode": {
    "name": "ipython",
    "version": 2
   },
   "file_extension": ".py",
   "mimetype": "text/x-python",
   "name": "python",
   "nbconvert_exporter": "python",
   "pygments_lexer": "ipython2",
   "version": "2.7.6"
  }
 },
 "nbformat": 4,
 "nbformat_minor": 5
}
